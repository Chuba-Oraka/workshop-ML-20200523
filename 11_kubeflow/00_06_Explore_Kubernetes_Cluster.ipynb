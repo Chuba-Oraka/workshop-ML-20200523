{
 "cells": [
  {
   "cell_type": "markdown",
   "metadata": {},
   "source": [
    "# `kubectl` Kubernetes CLI"
   ]
  },
  {
   "cell_type": "code",
   "execution_count": 1,
   "metadata": {},
   "outputs": [
    {
     "name": "stdout",
     "output_type": "stream",
     "text": [
      "NAME              STATUS   AGE\r\n",
      "anonymous         Active   4m36s\r\n",
      "cert-manager      Active   19m\r\n",
      "default           Active   36m\r\n",
      "istio-system      Active   19m\r\n",
      "knative-serving   Active   19m\r\n",
      "kube-node-lease   Active   36m\r\n",
      "kube-public       Active   36m\r\n",
      "kube-system       Active   36m\r\n",
      "kubeflow          Active   19m\r\n"
     ]
    }
   ],
   "source": [
    "!kubectl get namespaces"
   ]
  },
  {
   "cell_type": "code",
   "execution_count": 2,
   "metadata": {},
   "outputs": [
    {
     "name": "stdout",
     "output_type": "stream",
     "text": [
      "NAME         READY   STATUS    RESTARTS   AGE\r\n",
      "notebook-0   2/2     Running   0          88s\r\n"
     ]
    }
   ],
   "source": [
    "!kubectl get pods --namespace anonymous"
   ]
  },
  {
   "cell_type": "code",
   "execution_count": 3,
   "metadata": {},
   "outputs": [
    {
     "name": "stdout",
     "output_type": "stream",
     "text": [
      "[I 22:32:35.950 NotebookApp] Writing notebook server cookie secret to /root/.local/share/jupyter/runtime/notebook_cookie_secret\r\n",
      "[W 22:32:36.127 NotebookApp] All authentication is disabled.  Anyone who can connect to this server will be able to run code.\r\n",
      "[I 22:32:36.151 NotebookApp] JupyterLab extension loaded from /opt/conda/lib/python3.6/site-packages/jupyterlab\r\n",
      "[I 22:32:36.151 NotebookApp] JupyterLab application directory is /opt/conda/share/jupyter/lab\r\n",
      "[I 22:32:36.153 NotebookApp] Serving notebooks from local directory: /home/jovyan\r\n",
      "[I 22:32:36.153 NotebookApp] The Jupyter Notebook is running at:\r\n",
      "[I 22:32:36.153 NotebookApp] http://notebook-0:8888/notebook/anonymous/notebook/\r\n",
      "[I 22:32:36.153 NotebookApp] Use Control-C to stop this server and shut down all kernels (twice to skip confirmation).\r\n"
     ]
    }
   ],
   "source": [
    "!kubectl logs notebook-0 --container notebook --namespace anonymous"
   ]
  },
  {
   "cell_type": "code",
   "execution_count": null,
   "metadata": {},
   "outputs": [],
   "source": []
  }
 ],
 "metadata": {
  "kernelspec": {
   "display_name": "conda_python3",
   "language": "python",
   "name": "conda_python3"
  },
  "language_info": {
   "codemirror_mode": {
    "name": "ipython",
    "version": 3
   },
   "file_extension": ".py",
   "mimetype": "text/x-python",
   "name": "python",
   "nbconvert_exporter": "python",
   "pygments_lexer": "ipython3",
   "version": "3.6.5"
  }
 },
 "nbformat": 4,
 "nbformat_minor": 2
}
