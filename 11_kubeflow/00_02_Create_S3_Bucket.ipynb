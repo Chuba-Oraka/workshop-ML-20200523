{
 "cells": [
  {
   "cell_type": "markdown",
   "metadata": {},
   "source": [
    "# 1. Create S3 Bucket (If Not Already Created)\n"
   ]
  },
  {
   "cell_type": "code",
   "execution_count": 1,
   "metadata": {},
   "outputs": [
    {
     "name": "stdout",
     "output_type": "stream",
     "text": [
      "export S3_BUCKET=sagemaker-us-west-2-853609162619\n",
      "                           PRE amazon-reviews-pds/\n",
      "                           PRE amazon-reviews-spark-analyzer-2020-05-23-18-08-34/\n",
      "                           PRE amazon-reviews-spark-analyzer-2020-05-23-18-12-57/\n",
      "                           PRE amazon-reviews-spark-analyzer-2020-05-23-18-15-08/\n",
      "                           PRE amazon-reviews-spark-analyzer-2020-05-23-18-19-37/\n",
      "                           PRE amazon-reviews-spark-processor-2020-05-23-18-52-04/\n",
      "                           PRE amazon-reviews-spark-processor-2020-05-23-19-13-23/\n",
      "                           PRE amazon-reviews-spark-processor-2020-05-23-19-15-22/\n",
      "                           PRE amazon-reviews-spark-processor-2020-05-23-20-54-21/\n",
      "                           PRE athena/\n",
      "                           PRE data/\n",
      "                           PRE models/\n",
      "                           PRE sagemaker-scikit-learn-2020-05-23-18-40-19-214/\n",
      "                           PRE sagemaker-scikit-learn-2020-05-23-18-51-07-516/\n",
      "                           PRE sagemaker-scikit-learn-2020-05-23-18-51-09-418/\n",
      "                           PRE sagemaker-scikit-learn-2020-05-23-19-01-05-673/\n",
      "                           PRE sagemaker-scikit-learn-2020-05-23-20-43-40-254/\n",
      "                           PRE spark-amazon-reviews-analyzer-2020-05-23-18-08-34-534/\n",
      "                           PRE spark-amazon-reviews-analyzer-2020-05-23-18-12-57-340/\n",
      "                           PRE spark-amazon-reviews-analyzer-2020-05-23-18-15-08-114/\n",
      "                           PRE spark-amazon-reviews-analyzer-2020-05-23-18-19-52-325/\n",
      "                           PRE spark-amazon-reviews-processor-2020-05-23-18-52-04-188/\n",
      "                           PRE spark-amazon-reviews-processor-2020-05-23-19-13-23-557/\n",
      "                           PRE spark-amazon-reviews-processor-2020-05-23-19-15-22-340/\n",
      "                           PRE spark-amazon-reviews-processor-2020-05-23-20-54-21-019/\n",
      "                           PRE tensorflow-inference-2020-05-23-20-33-32-134/\n",
      "                           PRE tensorflow-inference-2020-05-23-20-34-3-2020-05-23-20-34-33-847/\n",
      "                           PRE tensorflow-inference-2020-05-23-21-05-39-089/\n",
      "                           PRE tensorflow-inference-2020-05-23-21-06-3-2020-05-23-21-06-38-525/\n",
      "                           PRE tensorflow-inference-2020-05-23-21-46-34-663/\n",
      "                           PRE tensorflow-inference-2020-05-23-21-47-3-2020-05-23-21-47-35-168/\n",
      "                           PRE tensorflow-training-200523-1950-001-ac9e4d9d/\n",
      "                           PRE tensorflow-training-200523-1950-002-ecae3603/\n",
      "                           PRE tensorflow-training-200523-2031-001-8979e553/\n",
      "                           PRE tensorflow-training-200523-2031-002-12f77c5e/\n",
      "                           PRE tensorflow-training-2020-05-23-19-22-05-803/\n",
      "                           PRE tensorflow-training-2020-05-23-19-50-34-784/\n",
      "                           PRE tensorflow-training-2020-05-23-20-09-53-176/\n",
      "                           PRE tensorflow-training-2020-05-23-20-10-29-931/\n",
      "                           PRE tensorflow-training-2020-05-23-20-31-32-915/\n",
      "                           PRE tensorflow-training-2020-05-23-20-37-22-213/\n",
      "                           PRE tensorflow-training-2020-05-23-20-38-35-622/\n",
      "                           PRE tensorflow-training-2020-05-23-20-38-54-670/\n",
      "                           PRE tensorflow-training-2020-05-23-21-00-36-807/\n",
      "Completed\n"
     ]
    }
   ],
   "source": [
    "%%bash\n",
    "\n",
    "export S3_BUCKET=sagemaker-$(aws configure get region)-$(aws sts get-caller-identity | jq -r '.Account')\n",
    "echo \"export S3_BUCKET=${S3_BUCKET}\" | tee -a ~/.bash_profile\n",
    "\n",
    "# Create a new S3 bucket and upload the dataset. \n",
    "aws s3 ls s3://$S3_BUCKET || aws s3 mb s3://${S3_BUCKET}\n",
    "\n",
    "echo \"Completed\"\n"
   ]
  },
  {
   "cell_type": "markdown",
   "metadata": {},
   "source": [
    "# 2. Verify S3_BUCKET Env Variable"
   ]
  },
  {
   "cell_type": "code",
   "execution_count": 2,
   "metadata": {},
   "outputs": [
    {
     "name": "stdout",
     "output_type": "stream",
     "text": [
      "sagemaker-us-west-2-853609162619\n"
     ]
    }
   ],
   "source": [
    "%%bash\n",
    "\n",
    "source ~/.bash_profile\n",
    "\n",
    "echo \"${S3_BUCKET}\"\n"
   ]
  },
  {
   "cell_type": "markdown",
   "metadata": {},
   "source": [
    "# 3. Verify S3_BUCKET Bucket Creation"
   ]
  },
  {
   "cell_type": "code",
   "execution_count": 3,
   "metadata": {},
   "outputs": [
    {
     "name": "stdout",
     "output_type": "stream",
     "text": [
      "                           PRE amazon-reviews-pds/\n",
      "                           PRE amazon-reviews-spark-analyzer-2020-05-23-18-08-34/\n",
      "                           PRE amazon-reviews-spark-analyzer-2020-05-23-18-12-57/\n",
      "                           PRE amazon-reviews-spark-analyzer-2020-05-23-18-15-08/\n",
      "                           PRE amazon-reviews-spark-analyzer-2020-05-23-18-19-37/\n",
      "                           PRE amazon-reviews-spark-processor-2020-05-23-18-52-04/\n",
      "                           PRE amazon-reviews-spark-processor-2020-05-23-19-13-23/\n",
      "                           PRE amazon-reviews-spark-processor-2020-05-23-19-15-22/\n",
      "                           PRE amazon-reviews-spark-processor-2020-05-23-20-54-21/\n",
      "                           PRE athena/\n",
      "                           PRE data/\n",
      "                           PRE models/\n",
      "                           PRE sagemaker-scikit-learn-2020-05-23-18-40-19-214/\n",
      "                           PRE sagemaker-scikit-learn-2020-05-23-18-51-07-516/\n",
      "                           PRE sagemaker-scikit-learn-2020-05-23-18-51-09-418/\n",
      "                           PRE sagemaker-scikit-learn-2020-05-23-19-01-05-673/\n",
      "                           PRE sagemaker-scikit-learn-2020-05-23-20-43-40-254/\n",
      "                           PRE spark-amazon-reviews-analyzer-2020-05-23-18-08-34-534/\n",
      "                           PRE spark-amazon-reviews-analyzer-2020-05-23-18-12-57-340/\n",
      "                           PRE spark-amazon-reviews-analyzer-2020-05-23-18-15-08-114/\n",
      "                           PRE spark-amazon-reviews-analyzer-2020-05-23-18-19-52-325/\n",
      "                           PRE spark-amazon-reviews-processor-2020-05-23-18-52-04-188/\n",
      "                           PRE spark-amazon-reviews-processor-2020-05-23-19-13-23-557/\n",
      "                           PRE spark-amazon-reviews-processor-2020-05-23-19-15-22-340/\n",
      "                           PRE spark-amazon-reviews-processor-2020-05-23-20-54-21-019/\n",
      "                           PRE tensorflow-inference-2020-05-23-20-33-32-134/\n",
      "                           PRE tensorflow-inference-2020-05-23-20-34-3-2020-05-23-20-34-33-847/\n",
      "                           PRE tensorflow-inference-2020-05-23-21-05-39-089/\n",
      "                           PRE tensorflow-inference-2020-05-23-21-06-3-2020-05-23-21-06-38-525/\n",
      "                           PRE tensorflow-inference-2020-05-23-21-46-34-663/\n",
      "                           PRE tensorflow-inference-2020-05-23-21-47-3-2020-05-23-21-47-35-168/\n",
      "                           PRE tensorflow-training-200523-1950-001-ac9e4d9d/\n",
      "                           PRE tensorflow-training-200523-1950-002-ecae3603/\n",
      "                           PRE tensorflow-training-200523-2031-001-8979e553/\n",
      "                           PRE tensorflow-training-200523-2031-002-12f77c5e/\n",
      "                           PRE tensorflow-training-2020-05-23-19-22-05-803/\n",
      "                           PRE tensorflow-training-2020-05-23-19-50-34-784/\n",
      "                           PRE tensorflow-training-2020-05-23-20-09-53-176/\n",
      "                           PRE tensorflow-training-2020-05-23-20-10-29-931/\n",
      "                           PRE tensorflow-training-2020-05-23-20-31-32-915/\n",
      "                           PRE tensorflow-training-2020-05-23-20-37-22-213/\n",
      "                           PRE tensorflow-training-2020-05-23-20-38-35-622/\n",
      "                           PRE tensorflow-training-2020-05-23-20-38-54-670/\n",
      "                           PRE tensorflow-training-2020-05-23-21-00-36-807/\n"
     ]
    }
   ],
   "source": [
    "%%bash\n",
    "\n",
    "source ~/.bash_profile\n",
    "\n",
    "aws s3 ls s3://${S3_BUCKET}\n"
   ]
  },
  {
   "cell_type": "code",
   "execution_count": null,
   "metadata": {},
   "outputs": [],
   "source": []
  }
 ],
 "metadata": {
  "kernelspec": {
   "display_name": "conda_python3",
   "language": "python",
   "name": "conda_python3"
  },
  "language_info": {
   "codemirror_mode": {
    "name": "ipython",
    "version": 3
   },
   "file_extension": ".py",
   "mimetype": "text/x-python",
   "name": "python",
   "nbconvert_exporter": "python",
   "pygments_lexer": "ipython3",
   "version": "3.6.5"
  }
 },
 "nbformat": 4,
 "nbformat_minor": 4
}
