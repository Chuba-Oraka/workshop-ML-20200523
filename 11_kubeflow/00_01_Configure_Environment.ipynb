{
 "cells": [
  {
   "cell_type": "markdown",
   "metadata": {},
   "source": [
    "# Associate IAM Policies with EKS Worker Nodes\n"
   ]
  },
  {
   "cell_type": "code",
   "execution_count": 1,
   "metadata": {},
   "outputs": [
    {
     "name": "stdout",
     "output_type": "stream",
     "text": [
      "export INSTANCE_ROLE_NAME=\n",
      "export INSTANCE_PROFILE_ARN=\n"
     ]
    }
   ],
   "source": [
    "%%bash\n",
    "\n",
    "### Source the environment\n",
    "source ~/.bash_profile\n",
    "\n",
    "export INSTANCE_ROLE_NAME=$(aws iam list-roles \\\n",
    "    | jq -r \".Roles[] \\\n",
    "    | select(.RoleName \\\n",
    "    | startswith(\\\"eksctl-$AWS_CLUSTER_NAME\\\") and contains(\\\"NodeInstanceRole\\\")) \\\n",
    "    .RoleName\")\n",
    "echo \"export INSTANCE_ROLE_NAME=${INSTANCE_ROLE_NAME}\" | tee -a ~/.bash_profile\n",
    "\n",
    "export INSTANCE_PROFILE_ARN=$(aws iam list-roles \\\n",
    "    | jq -r \".Roles[] \\\n",
    "    | select(.RoleName \\\n",
    "    | startswith(\\\"eksctl-$AWS_CLUSTER_NAME\\\") and contains(\\\"NodeInstanceRole\\\")) \\\n",
    "    .Arn\")\n",
    "echo \"export INSTANCE_PROFILE_ARN=${INSTANCE_PROFILE_ARN}\" | tee -a ~/.bash_profile"
   ]
  },
  {
   "cell_type": "markdown",
   "metadata": {},
   "source": [
    "# Attach Roles"
   ]
  },
  {
   "cell_type": "code",
   "execution_count": 2,
   "metadata": {},
   "outputs": [
    {
     "name": "stdout",
     "output_type": "stream",
     "text": [
      "Completed\n"
     ]
    },
    {
     "name": "stderr",
     "output_type": "stream",
     "text": [
      "usage: aws [options] <command> <subcommand> [<subcommand> ...] [parameters]\n",
      "To see help text, you can run:\n",
      "\n",
      "  aws help\n",
      "  aws <command> help\n",
      "  aws <command> <subcommand> help\n",
      "aws: error: argument --role-name: expected one argument\n"
     ]
    }
   ],
   "source": [
    "%%bash\n",
    "\n",
    "### Source the environment\n",
    "source ~/.bash_profile\n",
    "\n",
    "#### Allow Access from/to the Elastic Container Registry (ECR)\n",
    "# This allows our cluster worker nodes to load custom Docker images (ie. models) from ECR.  We will load these custom Docker images in a later section.\n",
    "aws iam attach-role-policy --role-name $INSTANCE_ROLE_NAME --policy-arn arn:aws:iam::aws:policy/AmazonEC2ContainerRegistryFullAccess\n",
    "\n",
    "echo \"Completed\""
   ]
  },
  {
   "cell_type": "markdown",
   "metadata": {},
   "source": [
    "# Associated IAM and OIDC\n",
    "To use IAM Roles for Service Accounts in your cluster, you must create an OIDC identity provider in the IAM console.  \n",
    "\n",
    "See https://docs.aws.amazon.com/eks/latest/userguide/enable-iam-roles-for-service-accounts.html for more info.\n",
    "\n",
    "# _This may take a few minutes.  Please be patient._\n"
   ]
  },
  {
   "cell_type": "code",
   "execution_count": 3,
   "metadata": {},
   "outputs": [
    {
     "name": "stdout",
     "output_type": "stream",
     "text": [
      "[ℹ]  eksctl version 0.19.0\n",
      "[ℹ]  using region us-west-2\n",
      "[!]  retryable error (EC2MetadataError: failed to make EC2Metadata request\n",
      "\tstatus code: 405, request id: \n",
      "caused by: ) from ec2metadata/GetToken - will retry after delay of 38.45833ms\n",
      "[!]  retryable error (EC2MetadataError: failed to make EC2Metadata request\n",
      "\tstatus code: 405, request id: \n",
      "caused by: ) from ec2metadata/GetToken - will retry after delay of 72.423806ms\n",
      "[!]  retryable error (EC2MetadataError: failed to make EC2Metadata request\n",
      "\tstatus code: 405, request id: \n",
      "caused by: ) from ec2metadata/GetToken - will retry after delay of 197.527516ms\n",
      "[!]  retryable error (EC2MetadataError: failed to make EC2Metadata request\n",
      "\tstatus code: 405, request id: \n",
      "caused by: ) from ec2metadata/GetToken - will retry after delay of 475.03008ms\n",
      "[!]  retryable error (EC2MetadataError: failed to make EC2Metadata request\n",
      "\tstatus code: 405, request id: \n",
      "caused by: ) from ec2metadata/GetToken - will retry after delay of 680.764576ms\n",
      "[!]  retryable error (EC2MetadataError: failed to make EC2Metadata request\n",
      "\tstatus code: 405, request id: \n",
      "caused by: ) from ec2metadata/GetToken - will retry after delay of 1.769771072s\n",
      "[!]  retryable error (EC2MetadataError: failed to make EC2Metadata request\n",
      "\tstatus code: 405, request id: \n",
      "caused by: ) from ec2metadata/GetToken - will retry after delay of 1.952829312s\n",
      "[!]  retryable error (EC2MetadataError: failed to make EC2Metadata request\n",
      "\tstatus code: 405, request id: \n",
      "caused by: ) from ec2metadata/GetToken - will retry after delay of 6.309278208s\n",
      "[!]  retryable error (EC2MetadataError: failed to make EC2Metadata request\n",
      "\tstatus code: 405, request id: \n",
      "caused by: ) from ec2metadata/GetToken - will retry after delay of 9.708370176s\n",
      "[!]  retryable error (EC2MetadataError: failed to make EC2Metadata request\n",
      "\tstatus code: 405, request id: \n",
      "caused by: ) from ec2metadata/GetToken - will retry after delay of 20.148924416s\n",
      "[!]  retryable error (EC2MetadataError: failed to make EC2Metadata request\n",
      "\tstatus code: 405, request id: \n",
      "caused by: ) from ec2metadata/GetToken - will retry after delay of 59.088366592s\n",
      "[!]  retryable error (EC2MetadataError: failed to make EC2Metadata request\n",
      "\tstatus code: 405, request id: \n",
      "caused by: ) from ec2metadata/GetToken - will retry after delay of 1m53.816295424s\n",
      "[!]  retryable error (EC2MetadataError: failed to make EC2Metadata request\n",
      "\tstatus code: 405, request id: \n",
      "caused by: ) from ec2metadata/GetToken - will retry after delay of 2m25.22935296s\n",
      "request expired, resigning\n",
      "[ℹ]  will create IAM Open ID Connect provider for cluster \"chubacluster\" in \"us-west-2\"\n",
      "[✔]  created IAM Open ID Connect provider for cluster \"chubacluster\" in \"us-west-2\"\n"
     ]
    }
   ],
   "source": [
    "%%bash\n",
    "\n",
    "### Source the environment\n",
    "source ~/.bash_profile\n",
    "\n",
    "eksctl utils associate-iam-oidc-provider --cluster ${AWS_CLUSTER_NAME} --approve\n"
   ]
  },
  {
   "cell_type": "code",
   "execution_count": 4,
   "metadata": {},
   "outputs": [
    {
     "name": "stdout",
     "output_type": "stream",
     "text": [
      "https://oidc.eks.us-west-2.amazonaws.com/id/8C9E5AC8F46B1CE50BE16AE9BF96D7F2\n",
      "Completed\n"
     ]
    }
   ],
   "source": [
    "%%bash\n",
    "\n",
    "### Source the environment\n",
    "source ~/.bash_profile\n",
    "\n",
    "aws eks describe-cluster --name ${AWS_CLUSTER_NAME} --region ${AWS_REGION} --query \"cluster.identity.oidc.issuer\" --output text\n",
    "\n",
    "echo \"Completed\""
   ]
  },
  {
   "cell_type": "markdown",
   "metadata": {},
   "source": [
    "# Update `~/.kube/config` with our new EKS cluster"
   ]
  },
  {
   "cell_type": "code",
   "execution_count": 5,
   "metadata": {},
   "outputs": [
    {
     "name": "stdout",
     "output_type": "stream",
     "text": [
      "Added new context arn:aws:eks:us-west-2:853609162619:cluster/chubacluster to /home/ec2-user/.kube/config\n"
     ]
    }
   ],
   "source": [
    "%%bash\n",
    "\n",
    "source ~/.bash_profile\n",
    "\n",
    "aws eks --region ${AWS_REGION} update-kubeconfig --name ${AWS_CLUSTER_NAME} "
   ]
  },
  {
   "cell_type": "markdown",
   "metadata": {},
   "source": [
    "# Verify Your EKS Cluster\n"
   ]
  },
  {
   "cell_type": "code",
   "execution_count": 6,
   "metadata": {},
   "outputs": [
    {
     "name": "stdout",
     "output_type": "stream",
     "text": [
      "NAME              STATUS   AGE\n",
      "default           Active   7m25s\n",
      "kube-node-lease   Active   7m26s\n",
      "kube-public       Active   7m26s\n",
      "kube-system       Active   7m26s\n"
     ]
    }
   ],
   "source": [
    "%%bash\n",
    "\n",
    "kubectl get ns\n"
   ]
  },
  {
   "cell_type": "code",
   "execution_count": 7,
   "metadata": {},
   "outputs": [
    {
     "name": "stdout",
     "output_type": "stream",
     "text": [
      "NAME                                           STATUS   ROLES    AGE     VERSION\n",
      "ip-192-168-11-227.us-west-2.compute.internal   Ready    <none>   2m45s   v1.15.11-eks-af3caf\n",
      "ip-192-168-26-95.us-west-2.compute.internal    Ready    <none>   2m44s   v1.15.11-eks-af3caf\n",
      "ip-192-168-35-205.us-west-2.compute.internal   Ready    <none>   2m50s   v1.15.11-eks-af3caf\n",
      "ip-192-168-68-104.us-west-2.compute.internal   Ready    <none>   2m44s   v1.15.11-eks-af3caf\n",
      "ip-192-168-77-167.us-west-2.compute.internal   Ready    <none>   2m44s   v1.15.11-eks-af3caf\n"
     ]
    }
   ],
   "source": [
    "%%bash\n",
    "\n",
    "kubectl get nodes\n"
   ]
  },
  {
   "cell_type": "code",
   "execution_count": null,
   "metadata": {},
   "outputs": [],
   "source": []
  }
 ],
 "metadata": {
  "kernelspec": {
   "display_name": "conda_python3",
   "language": "python",
   "name": "conda_python3"
  },
  "language_info": {
   "codemirror_mode": {
    "name": "ipython",
    "version": 3
   },
   "file_extension": ".py",
   "mimetype": "text/x-python",
   "name": "python",
   "nbconvert_exporter": "python",
   "pygments_lexer": "ipython3",
   "version": "3.6.5"
  }
 },
 "nbformat": 4,
 "nbformat_minor": 2
}
