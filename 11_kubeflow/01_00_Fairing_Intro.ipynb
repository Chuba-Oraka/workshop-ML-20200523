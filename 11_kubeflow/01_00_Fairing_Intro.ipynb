{
 "cells": [
  {
   "cell_type": "markdown",
   "metadata": {},
   "source": [
    "# Kubeflow Introduction\n",
    "\n",
    "![Kubeflow Overview](img/kubeflow-overview.png)"
   ]
  },
  {
   "cell_type": "markdown",
   "metadata": {},
   "source": [
    "# Kubeflow Fairing Introduction\n",
    "\n",
    "Kubeflow Fairing is a Python package that streamlines the process of `building`, `training`, and `deploying` machine learning (ML) models in a hybrid cloud environment. By using Kubeflow Fairing and adding a few lines of code, you can run your ML training job locally or in the cloud, directly from Python code or a Jupyter notebook. After your training job is complete, you can use Kubeflow Fairing to deploy your trained model as a prediction endpoint.\n",
    "\n",
    "\n",
    "# How does Kubeflow Fairing work\n",
    "\n",
    "Kubeflow Fairing \n",
    "1. Packages your Jupyter notebook, Python function, or Python file as a Docker image\n",
    "2. Deploys and runs the training job on Kubeflow or AI Platform. \n",
    "3. Deploy your trained model as a prediction endpoint on Kubeflow after your training job is complete.\n",
    "\n",
    "\n",
    "# Goals of Kubeflow Fairing project\n",
    "\n",
    "- Easily package ML training jobs: Enable ML practitioners to easily package their ML model training code, and their code’s dependencies, as a Docker image.\n",
    "- Easily train ML models in a hybrid cloud environment: Provide a high-level API for training ML models to make it easy to run training jobs in the cloud, without needing to understand the underlying infrastructure.\n",
    "- Streamline the process of deploying a trained model: Make it easy for ML practitioners to deploy trained ML models to a hybrid cloud environment."
   ]
  },
  {
   "cell_type": "code",
   "execution_count": 1,
   "metadata": {},
   "outputs": [
    {
     "name": "stdout",
     "output_type": "stream",
     "text": [
      "Requirement already satisfied: kubeflow-fairing==0.7.1 in /opt/conda/lib/python3.6/site-packages (0.7.1)\n",
      "Requirement already satisfied: google-cloud-storage>=1.13.2 in /opt/conda/lib/python3.6/site-packages (from kubeflow-fairing==0.7.1) (1.25.0)\n",
      "Requirement already satisfied: python-dateutil<=2.8.0,>=2.1 in /opt/conda/lib/python3.6/site-packages (from kubeflow-fairing==0.7.1) (2.8.0)\n",
      "Requirement already satisfied: notebook>=5.6.0 in /opt/conda/lib/python3.6/site-packages (from kubeflow-fairing==0.7.1) (6.0.3)\n",
      "Requirement already satisfied: six>=1.11.0 in /opt/conda/lib/python3.6/site-packages (from kubeflow-fairing==0.7.1) (1.11.0)\n",
      "Requirement already satisfied: kubeflow-pytorchjob>=0.1.1 in /opt/conda/lib/python3.6/site-packages (from kubeflow-fairing==0.7.1) (0.1.3)\n",
      "Requirement already satisfied: kubernetes>=10.0.1 in /opt/conda/lib/python3.6/site-packages (from kubeflow-fairing==0.7.1) (10.0.1)\n",
      "Requirement already satisfied: retrying>=1.3.3 in /opt/conda/lib/python3.6/site-packages (from kubeflow-fairing==0.7.1) (1.3.3)\n",
      "Requirement already satisfied: oauth2client>=4.0.0 in /opt/conda/lib/python3.6/site-packages (from kubeflow-fairing==0.7.1) (4.1.3)\n",
      "Requirement already satisfied: cloudpickle>=0.8 in /opt/conda/lib/python3.6/site-packages (from kubeflow-fairing==0.7.1) (1.2.2)\n",
      "Requirement already satisfied: docker>=3.4.1 in /opt/conda/lib/python3.6/site-packages (from kubeflow-fairing==0.7.1) (4.1.0)\n",
      "Requirement already satisfied: requests>=2.21.0 in /opt/conda/lib/python3.6/site-packages (from kubeflow-fairing==0.7.1) (2.22.0)\n",
      "Requirement already satisfied: urllib3==1.24.2 in /opt/conda/lib/python3.6/site-packages (from kubeflow-fairing==0.7.1) (1.24.2)\n",
      "Requirement already satisfied: kfserving>=0.2.1.1 in /opt/conda/lib/python3.6/site-packages (from kubeflow-fairing==0.7.1) (0.2.2.1)\n",
      "Requirement already satisfied: azure>=4.0.0 in /opt/conda/lib/python3.6/site-packages (from kubeflow-fairing==0.7.1) (4.0.0)\n",
      "Requirement already satisfied: future>=0.17.1 in /opt/conda/lib/python3.6/site-packages (from kubeflow-fairing==0.7.1) (0.18.2)\n",
      "Requirement already satisfied: google-api-python-client>=1.7.8 in /opt/conda/lib/python3.6/site-packages (from kubeflow-fairing==0.7.1) (1.7.11)\n",
      "Requirement already satisfied: boto3>=1.9.0 in /opt/conda/lib/python3.6/site-packages (from kubeflow-fairing==0.7.1) (1.11.8)\n",
      "Requirement already satisfied: google-auth>=1.6.2 in /opt/conda/lib/python3.6/site-packages (from kubeflow-fairing==0.7.1) (1.11.0)\n",
      "Requirement already satisfied: tornado>=6.0.1 in /opt/conda/lib/python3.6/site-packages (from kubeflow-fairing==0.7.1) (6.0.3)\n",
      "Requirement already satisfied: httplib2>=0.12.0 in /opt/conda/lib/python3.6/site-packages (from kubeflow-fairing==0.7.1) (0.12.0)\n",
      "Requirement already satisfied: setuptools>=34.0.0 in /opt/conda/lib/python3.6/site-packages (from kubeflow-fairing==0.7.1) (39.0.1)\n",
      "Requirement already satisfied: google-cloud-logging>=1.13.0 in /opt/conda/lib/python3.6/site-packages (from kubeflow-fairing==0.7.1) (1.14.0)\n",
      "Requirement already satisfied: kubeflow-tfjob>=0.1.1 in /opt/conda/lib/python3.6/site-packages (from kubeflow-fairing==0.7.1) (0.1.3)\n",
      "Requirement already satisfied: numpy>=1.17.3 in /opt/conda/lib/python3.6/site-packages (from kubeflow-fairing==0.7.1) (1.18.1)\n",
      "Requirement already satisfied: google-cloud-core<2.0dev,>=1.2.0 in /opt/conda/lib/python3.6/site-packages (from google-cloud-storage>=1.13.2->kubeflow-fairing==0.7.1) (1.2.0)\n",
      "Requirement already satisfied: google-resumable-media<0.6dev,>=0.5.0 in /opt/conda/lib/python3.6/site-packages (from google-cloud-storage>=1.13.2->kubeflow-fairing==0.7.1) (0.5.0)\n",
      "Requirement already satisfied: pyzmq>=17 in /opt/conda/lib/python3.6/site-packages (from notebook>=5.6.0->kubeflow-fairing==0.7.1) (18.1.1)\n",
      "Requirement already satisfied: ipython-genutils in /opt/conda/lib/python3.6/site-packages (from notebook>=5.6.0->kubeflow-fairing==0.7.1) (0.2.0)\n",
      "Requirement already satisfied: traitlets>=4.2.1 in /opt/conda/lib/python3.6/site-packages (from notebook>=5.6.0->kubeflow-fairing==0.7.1) (4.3.3)\n",
      "Requirement already satisfied: jupyter-client>=5.3.4 in /opt/conda/lib/python3.6/site-packages (from notebook>=5.6.0->kubeflow-fairing==0.7.1) (5.3.4)\n",
      "Requirement already satisfied: prometheus-client in /opt/conda/lib/python3.6/site-packages (from notebook>=5.6.0->kubeflow-fairing==0.7.1) (0.7.1)\n",
      "Requirement already satisfied: nbconvert in /opt/conda/lib/python3.6/site-packages (from notebook>=5.6.0->kubeflow-fairing==0.7.1) (5.6.1)\n",
      "Requirement already satisfied: jinja2 in /opt/conda/lib/python3.6/site-packages (from notebook>=5.6.0->kubeflow-fairing==0.7.1) (2.10.3)\n",
      "Requirement already satisfied: ipykernel in /opt/conda/lib/python3.6/site-packages (from notebook>=5.6.0->kubeflow-fairing==0.7.1) (5.1.3)\n",
      "Requirement already satisfied: Send2Trash in /opt/conda/lib/python3.6/site-packages (from notebook>=5.6.0->kubeflow-fairing==0.7.1) (1.5.0)\n",
      "Requirement already satisfied: jupyter-core>=4.6.1 in /opt/conda/lib/python3.6/site-packages (from notebook>=5.6.0->kubeflow-fairing==0.7.1) (4.6.1)\n",
      "Requirement already satisfied: terminado>=0.8.1 in /opt/conda/lib/python3.6/site-packages (from notebook>=5.6.0->kubeflow-fairing==0.7.1) (0.8.3)\n",
      "Requirement already satisfied: nbformat in /opt/conda/lib/python3.6/site-packages (from notebook>=5.6.0->kubeflow-fairing==0.7.1) (5.0.4)\n",
      "Requirement already satisfied: certifi>=14.05.14 in /opt/conda/lib/python3.6/site-packages (from kubeflow-pytorchjob>=0.1.1->kubeflow-fairing==0.7.1) (2019.3.9)\n",
      "Requirement already satisfied: table-logger>=0.3.5 in /opt/conda/lib/python3.6/site-packages (from kubeflow-pytorchjob>=0.1.1->kubeflow-fairing==0.7.1) (0.3.6)\n",
      "Requirement already satisfied: websocket-client!=0.40.0,!=0.41.*,!=0.42.*,>=0.32.0 in /opt/conda/lib/python3.6/site-packages (from kubernetes>=10.0.1->kubeflow-fairing==0.7.1) (0.57.0)\n",
      "Requirement already satisfied: requests-oauthlib in /opt/conda/lib/python3.6/site-packages (from kubernetes>=10.0.1->kubeflow-fairing==0.7.1) (1.3.0)\n",
      "Requirement already satisfied: pyyaml>=3.12 in /opt/conda/lib/python3.6/site-packages (from kubernetes>=10.0.1->kubeflow-fairing==0.7.1) (5.2)\n",
      "Requirement already satisfied: pyasn1>=0.1.7 in /opt/conda/lib/python3.6/site-packages (from oauth2client>=4.0.0->kubeflow-fairing==0.7.1) (0.4.8)\n",
      "Requirement already satisfied: pyasn1-modules>=0.0.5 in /opt/conda/lib/python3.6/site-packages (from oauth2client>=4.0.0->kubeflow-fairing==0.7.1) (0.2.8)\n",
      "Requirement already satisfied: rsa>=3.1.4 in /opt/conda/lib/python3.6/site-packages (from oauth2client>=4.0.0->kubeflow-fairing==0.7.1) (3.4.2)\n",
      "Requirement already satisfied: idna<2.9,>=2.5 in /opt/conda/lib/python3.6/site-packages (from requests>=2.21.0->kubeflow-fairing==0.7.1) (2.6)\n",
      "Requirement already satisfied: chardet<3.1.0,>=3.0.2 in /opt/conda/lib/python3.6/site-packages (from requests>=2.21.0->kubeflow-fairing==0.7.1) (3.0.4)\n",
      "Requirement already satisfied: adal>=1.2.2 in /opt/conda/lib/python3.6/site-packages (from kfserving>=0.2.1.1->kubeflow-fairing==0.7.1) (1.2.2)\n",
      "Requirement already satisfied: minio>=4.0.9 in /opt/conda/lib/python3.6/site-packages (from kfserving>=0.2.1.1->kubeflow-fairing==0.7.1) (5.0.6)\n",
      "Requirement already satisfied: argparse>=1.4.0 in /opt/conda/lib/python3.6/site-packages (from kfserving>=0.2.1.1->kubeflow-fairing==0.7.1) (1.4.0)\n",
      "Requirement already satisfied: azure-storage-blob<=2.1.0,>=1.3.0 in /opt/conda/lib/python3.6/site-packages (from kfserving>=0.2.1.1->kubeflow-fairing==0.7.1) (1.5.0)\n",
      "Requirement already satisfied: azure-mgmt~=4.0 in /opt/conda/lib/python3.6/site-packages (from azure>=4.0.0->kubeflow-fairing==0.7.1) (4.0.0)\n",
      "Requirement already satisfied: azure-datalake-store~=0.0.18 in /opt/conda/lib/python3.6/site-packages (from azure>=4.0.0->kubeflow-fairing==0.7.1) (0.0.48)\n",
      "Requirement already satisfied: azure-applicationinsights~=0.1.0 in /opt/conda/lib/python3.6/site-packages (from azure>=4.0.0->kubeflow-fairing==0.7.1) (0.1.0)\n",
      "Requirement already satisfied: azure-batch~=4.1 in /opt/conda/lib/python3.6/site-packages (from azure>=4.0.0->kubeflow-fairing==0.7.1) (4.1.3)\n",
      "Requirement already satisfied: azure-eventgrid~=1.1 in /opt/conda/lib/python3.6/site-packages (from azure>=4.0.0->kubeflow-fairing==0.7.1) (1.3.0)\n",
      "Requirement already satisfied: azure-storage-queue~=1.3 in /opt/conda/lib/python3.6/site-packages (from azure>=4.0.0->kubeflow-fairing==0.7.1) (1.4.0)\n",
      "Requirement already satisfied: azure-servicemanagement-legacy~=0.20.6 in /opt/conda/lib/python3.6/site-packages (from azure>=4.0.0->kubeflow-fairing==0.7.1) (0.20.6)\n"
     ]
    },
    {
     "name": "stdout",
     "output_type": "stream",
     "text": [
      "Requirement already satisfied: azure-cosmosdb-table~=1.0 in /opt/conda/lib/python3.6/site-packages (from azure>=4.0.0->kubeflow-fairing==0.7.1) (1.0.6)\n",
      "Requirement already satisfied: azure-servicebus~=0.21.1 in /opt/conda/lib/python3.6/site-packages (from azure>=4.0.0->kubeflow-fairing==0.7.1) (0.21.1)\n",
      "Requirement already satisfied: azure-graphrbac~=0.40.0 in /opt/conda/lib/python3.6/site-packages (from azure>=4.0.0->kubeflow-fairing==0.7.1) (0.40.0)\n",
      "Requirement already satisfied: azure-loganalytics~=0.1.0 in /opt/conda/lib/python3.6/site-packages (from azure>=4.0.0->kubeflow-fairing==0.7.1) (0.1.0)\n",
      "Requirement already satisfied: azure-servicefabric~=6.3.0.0 in /opt/conda/lib/python3.6/site-packages (from azure>=4.0.0->kubeflow-fairing==0.7.1) (6.3.0.0)\n",
      "Requirement already satisfied: azure-storage-file~=1.3 in /opt/conda/lib/python3.6/site-packages (from azure>=4.0.0->kubeflow-fairing==0.7.1) (1.4.0)\n",
      "Requirement already satisfied: azure-keyvault~=1.0 in /opt/conda/lib/python3.6/site-packages (from azure>=4.0.0->kubeflow-fairing==0.7.1) (1.1.0)\n",
      "Requirement already satisfied: uritemplate<4dev,>=3.0.0 in /opt/conda/lib/python3.6/site-packages (from google-api-python-client>=1.7.8->kubeflow-fairing==0.7.1) (3.0.1)\n",
      "Requirement already satisfied: google-auth-httplib2>=0.0.3 in /opt/conda/lib/python3.6/site-packages (from google-api-python-client>=1.7.8->kubeflow-fairing==0.7.1) (0.0.3)\n",
      "Requirement already satisfied: s3transfer<0.4.0,>=0.3.0 in /opt/conda/lib/python3.6/site-packages (from boto3>=1.9.0->kubeflow-fairing==0.7.1) (0.3.2)\n",
      "Requirement already satisfied: jmespath<1.0.0,>=0.7.1 in /opt/conda/lib/python3.6/site-packages (from boto3>=1.9.0->kubeflow-fairing==0.7.1) (0.9.4)\n",
      "Requirement already satisfied: botocore<1.15.0,>=1.14.8 in /opt/conda/lib/python3.6/site-packages (from boto3>=1.9.0->kubeflow-fairing==0.7.1) (1.14.8)\n",
      "Requirement already satisfied: cachetools<5.0,>=2.0.0 in /opt/conda/lib/python3.6/site-packages (from google-auth>=1.6.2->kubeflow-fairing==0.7.1) (3.1.1)\n",
      "Requirement already satisfied: google-api-core[grpc]<2.0.0dev,>=1.14.0 in /opt/conda/lib/python3.6/site-packages (from google-cloud-logging>=1.13.0->kubeflow-fairing==0.7.1) (1.16.0)\n",
      "Requirement already satisfied: decorator in /opt/conda/lib/python3.6/site-packages (from traitlets>=4.2.1->notebook>=5.6.0->kubeflow-fairing==0.7.1) (4.4.1)\n",
      "Requirement already satisfied: pandocfilters>=1.4.1 in /opt/conda/lib/python3.6/site-packages (from nbconvert->notebook>=5.6.0->kubeflow-fairing==0.7.1) (1.4.2)\n",
      "Requirement already satisfied: mistune<2,>=0.8.1 in /opt/conda/lib/python3.6/site-packages (from nbconvert->notebook>=5.6.0->kubeflow-fairing==0.7.1) (0.8.4)\n",
      "Requirement already satisfied: defusedxml in /opt/conda/lib/python3.6/site-packages (from nbconvert->notebook>=5.6.0->kubeflow-fairing==0.7.1) (0.6.0)\n",
      "Requirement already satisfied: pygments in /opt/conda/lib/python3.6/site-packages (from nbconvert->notebook>=5.6.0->kubeflow-fairing==0.7.1) (2.5.2)\n",
      "Requirement already satisfied: entrypoints>=0.2.2 in /opt/conda/lib/python3.6/site-packages (from nbconvert->notebook>=5.6.0->kubeflow-fairing==0.7.1) (0.3)\n",
      "Requirement already satisfied: bleach in /opt/conda/lib/python3.6/site-packages (from nbconvert->notebook>=5.6.0->kubeflow-fairing==0.7.1) (3.1.0)\n",
      "Requirement already satisfied: testpath in /opt/conda/lib/python3.6/site-packages (from nbconvert->notebook>=5.6.0->kubeflow-fairing==0.7.1) (0.4.4)\n",
      "Requirement already satisfied: MarkupSafe>=0.23 in /opt/conda/lib/python3.6/site-packages (from jinja2->notebook>=5.6.0->kubeflow-fairing==0.7.1) (1.1.1)\n",
      "Requirement already satisfied: ipython>=5.0.0 in /opt/conda/lib/python3.6/site-packages (from ipykernel->notebook>=5.6.0->kubeflow-fairing==0.7.1) (7.11.1)\n",
      "Requirement already satisfied: ptyprocess; os_name != \"nt\" in /opt/conda/lib/python3.6/site-packages (from terminado>=0.8.1->notebook>=5.6.0->kubeflow-fairing==0.7.1) (0.6.0)\n",
      "Requirement already satisfied: jsonschema!=2.5.0,>=2.4 in /opt/conda/lib/python3.6/site-packages (from nbformat->notebook>=5.6.0->kubeflow-fairing==0.7.1) (3.2.0)\n",
      "Requirement already satisfied: oauthlib>=3.0.0 in /opt/conda/lib/python3.6/site-packages (from requests-oauthlib->kubernetes>=10.0.1->kubeflow-fairing==0.7.1) (3.1.0)\n",
      "Requirement already satisfied: PyJWT>=1.0.0 in /opt/conda/lib/python3.6/site-packages (from adal>=1.2.2->kfserving>=0.2.1.1->kubeflow-fairing==0.7.1) (1.6.4)\n",
      "Requirement already satisfied: cryptography>=1.1.0 in /opt/conda/lib/python3.6/site-packages (from adal>=1.2.2->kfserving>=0.2.1.1->kubeflow-fairing==0.7.1) (2.4.2)\n",
      "Requirement already satisfied: pytz in /opt/conda/lib/python3.6/site-packages (from minio>=4.0.9->kfserving>=0.2.1.1->kubeflow-fairing==0.7.1) (2019.3)\n",
      "Requirement already satisfied: azure-common>=1.1.5 in /opt/conda/lib/python3.6/site-packages (from azure-storage-blob<=2.1.0,>=1.3.0->kfserving>=0.2.1.1->kubeflow-fairing==0.7.1) (1.1.24)\n",
      "Requirement already satisfied: azure-storage-common~=1.4 in /opt/conda/lib/python3.6/site-packages (from azure-storage-blob<=2.1.0,>=1.3.0->kfserving>=0.2.1.1->kubeflow-fairing==0.7.1) (1.4.2)\n",
      "Requirement already satisfied: azure-mgmt-compute~=4.0 in /opt/conda/lib/python3.6/site-packages (from azure-mgmt~=4.0->azure>=4.0.0->kubeflow-fairing==0.7.1) (4.6.2)\n",
      "Requirement already satisfied: azure-mgmt-devspaces~=0.1.0 in /opt/conda/lib/python3.6/site-packages (from azure-mgmt~=4.0->azure>=4.0.0->kubeflow-fairing==0.7.1) (0.1.0)\n",
      "Requirement already satisfied: azure-mgmt-signalr~=0.1.0 in /opt/conda/lib/python3.6/site-packages (from azure-mgmt~=4.0->azure>=4.0.0->kubeflow-fairing==0.7.1) (0.1.1)\n",
      "Requirement already satisfied: azure-mgmt-cosmosdb~=0.4.1 in /opt/conda/lib/python3.6/site-packages (from azure-mgmt~=4.0->azure>=4.0.0->kubeflow-fairing==0.7.1) (0.4.1)\n",
      "Requirement already satisfied: azure-mgmt-advisor~=1.0 in /opt/conda/lib/python3.6/site-packages (from azure-mgmt~=4.0->azure>=4.0.0->kubeflow-fairing==0.7.1) (1.0.1)\n",
      "Requirement already satisfied: azure-mgmt-rdbms~=1.2 in /opt/conda/lib/python3.6/site-packages (from azure-mgmt~=4.0->azure>=4.0.0->kubeflow-fairing==0.7.1) (1.9.0)\n",
      "Requirement already satisfied: azure-mgmt-media~=1.0.0rc2 in /opt/conda/lib/python3.6/site-packages (from azure-mgmt~=4.0->azure>=4.0.0->kubeflow-fairing==0.7.1) (1.0.0)\n",
      "Requirement already satisfied: azure-mgmt-marketplaceordering~=0.1.0 in /opt/conda/lib/python3.6/site-packages (from azure-mgmt~=4.0->azure>=4.0.0->kubeflow-fairing==0.7.1) (0.1.0)\n",
      "Requirement already satisfied: azure-mgmt-subscription~=0.2.0 in /opt/conda/lib/python3.6/site-packages (from azure-mgmt~=4.0->azure>=4.0.0->kubeflow-fairing==0.7.1) (0.2.0)\n",
      "Requirement already satisfied: azure-mgmt-batch~=5.0 in /opt/conda/lib/python3.6/site-packages (from azure-mgmt~=4.0->azure>=4.0.0->kubeflow-fairing==0.7.1) (5.0.1)\n",
      "Requirement already satisfied: azure-mgmt-containerinstance~=1.0 in /opt/conda/lib/python3.6/site-packages (from azure-mgmt~=4.0->azure>=4.0.0->kubeflow-fairing==0.7.1) (1.5.0)\n",
      "Requirement already satisfied: azure-mgmt-datalake-analytics~=0.6.0 in /opt/conda/lib/python3.6/site-packages (from azure-mgmt~=4.0->azure>=4.0.0->kubeflow-fairing==0.7.1) (0.6.0)\n",
      "Requirement already satisfied: azure-mgmt-iotcentral~=0.1.0 in /opt/conda/lib/python3.6/site-packages (from azure-mgmt~=4.0->azure>=4.0.0->kubeflow-fairing==0.7.1) (0.1.0)\n",
      "Requirement already satisfied: azure-mgmt-machinelearningcompute~=0.4.1 in /opt/conda/lib/python3.6/site-packages (from azure-mgmt~=4.0->azure>=4.0.0->kubeflow-fairing==0.7.1) (0.4.1)\n",
      "Requirement already satisfied: azure-mgmt-scheduler~=2.0 in /opt/conda/lib/python3.6/site-packages (from azure-mgmt~=4.0->azure>=4.0.0->kubeflow-fairing==0.7.1) (2.0.0)\n",
      "Requirement already satisfied: azure-mgmt-notificationhubs~=2.0 in /opt/conda/lib/python3.6/site-packages (from azure-mgmt~=4.0->azure>=4.0.0->kubeflow-fairing==0.7.1) (2.1.0)\n",
      "Requirement already satisfied: azure-mgmt-policyinsights~=0.1.0 in /opt/conda/lib/python3.6/site-packages (from azure-mgmt~=4.0->azure>=4.0.0->kubeflow-fairing==0.7.1) (0.1.0)\n",
      "Requirement already satisfied: azure-mgmt-devtestlabs~=2.2 in /opt/conda/lib/python3.6/site-packages (from azure-mgmt~=4.0->azure>=4.0.0->kubeflow-fairing==0.7.1) (2.2.0)\n",
      "Requirement already satisfied: azure-mgmt-iothubprovisioningservices~=0.2.0 in /opt/conda/lib/python3.6/site-packages (from azure-mgmt~=4.0->azure>=4.0.0->kubeflow-fairing==0.7.1) (0.2.0)\n",
      "Requirement already satisfied: azure-mgmt-trafficmanager~=0.50.0 in /opt/conda/lib/python3.6/site-packages (from azure-mgmt~=4.0->azure>=4.0.0->kubeflow-fairing==0.7.1) (0.50.0)\n",
      "Requirement already satisfied: azure-mgmt-resource~=2.0 in /opt/conda/lib/python3.6/site-packages (from azure-mgmt~=4.0->azure>=4.0.0->kubeflow-fairing==0.7.1) (2.2.0)\n",
      "Requirement already satisfied: azure-mgmt-web~=0.35.0 in /opt/conda/lib/python3.6/site-packages (from azure-mgmt~=4.0->azure>=4.0.0->kubeflow-fairing==0.7.1) (0.35.0)\n",
      "Requirement already satisfied: azure-mgmt-applicationinsights~=0.1.1 in /opt/conda/lib/python3.6/site-packages (from azure-mgmt~=4.0->azure>=4.0.0->kubeflow-fairing==0.7.1) (0.1.1)\n"
     ]
    },
    {
     "name": "stdout",
     "output_type": "stream",
     "text": [
      "Requirement already satisfied: azure-mgmt-network~=2.0 in /opt/conda/lib/python3.6/site-packages (from azure-mgmt~=4.0->azure>=4.0.0->kubeflow-fairing==0.7.1) (2.7.0)\n",
      "Requirement already satisfied: azure-mgmt-containerservice~=4.2 in /opt/conda/lib/python3.6/site-packages (from azure-mgmt~=4.0->azure>=4.0.0->kubeflow-fairing==0.7.1) (4.4.0)\n",
      "Requirement already satisfied: azure-mgmt-maps~=0.1.0 in /opt/conda/lib/python3.6/site-packages (from azure-mgmt~=4.0->azure>=4.0.0->kubeflow-fairing==0.7.1) (0.1.0)\n",
      "Requirement already satisfied: azure-mgmt-managementpartner~=0.1.0 in /opt/conda/lib/python3.6/site-packages (from azure-mgmt~=4.0->azure>=4.0.0->kubeflow-fairing==0.7.1) (0.1.1)\n",
      "Requirement already satisfied: azure-mgmt-relay~=0.1.0 in /opt/conda/lib/python3.6/site-packages (from azure-mgmt~=4.0->azure>=4.0.0->kubeflow-fairing==0.7.1) (0.1.0)\n",
      "Requirement already satisfied: azure-mgmt-msi~=0.2.0 in /opt/conda/lib/python3.6/site-packages (from azure-mgmt~=4.0->azure>=4.0.0->kubeflow-fairing==0.7.1) (0.2.0)\n",
      "Requirement already satisfied: azure-mgmt-redis~=5.0 in /opt/conda/lib/python3.6/site-packages (from azure-mgmt~=4.0->azure>=4.0.0->kubeflow-fairing==0.7.1) (5.0.0)\n",
      "Requirement already satisfied: azure-mgmt-sql~=0.9.1 in /opt/conda/lib/python3.6/site-packages (from azure-mgmt~=4.0->azure>=4.0.0->kubeflow-fairing==0.7.1) (0.9.1)\n",
      "Requirement already satisfied: azure-mgmt-billing~=0.2.0 in /opt/conda/lib/python3.6/site-packages (from azure-mgmt~=4.0->azure>=4.0.0->kubeflow-fairing==0.7.1) (0.2.0)\n",
      "Requirement already satisfied: azure-mgmt-consumption~=2.0 in /opt/conda/lib/python3.6/site-packages (from azure-mgmt~=4.0->azure>=4.0.0->kubeflow-fairing==0.7.1) (2.0.0)\n",
      "Requirement already satisfied: azure-mgmt-monitor~=0.5.2 in /opt/conda/lib/python3.6/site-packages (from azure-mgmt~=4.0->azure>=4.0.0->kubeflow-fairing==0.7.1) (0.5.2)\n",
      "Requirement already satisfied: azure-mgmt-powerbiembedded~=2.0 in /opt/conda/lib/python3.6/site-packages (from azure-mgmt~=4.0->azure>=4.0.0->kubeflow-fairing==0.7.1) (2.0.0)\n",
      "Requirement already satisfied: azure-mgmt-loganalytics~=0.2.0 in /opt/conda/lib/python3.6/site-packages (from azure-mgmt~=4.0->azure>=4.0.0->kubeflow-fairing==0.7.1) (0.2.0)\n",
      "Requirement already satisfied: azure-mgmt-search~=2.0 in /opt/conda/lib/python3.6/site-packages (from azure-mgmt~=4.0->azure>=4.0.0->kubeflow-fairing==0.7.1) (2.1.0)\n",
      "Requirement already satisfied: azure-mgmt-authorization~=0.50.0 in /opt/conda/lib/python3.6/site-packages (from azure-mgmt~=4.0->azure>=4.0.0->kubeflow-fairing==0.7.1) (0.50.0)\n",
      "Requirement already satisfied: azure-mgmt-datamigration~=1.0 in /opt/conda/lib/python3.6/site-packages (from azure-mgmt~=4.0->azure>=4.0.0->kubeflow-fairing==0.7.1) (1.0.0)\n",
      "Requirement already satisfied: azure-mgmt-datafactory~=0.6.0 in /opt/conda/lib/python3.6/site-packages (from azure-mgmt~=4.0->azure>=4.0.0->kubeflow-fairing==0.7.1) (0.6.0)\n",
      "Requirement already satisfied: azure-mgmt-reservations~=0.2.1 in /opt/conda/lib/python3.6/site-packages (from azure-mgmt~=4.0->azure>=4.0.0->kubeflow-fairing==0.7.1) (0.2.1)\n",
      "Requirement already satisfied: azure-mgmt-recoveryservicesbackup~=0.3.0 in /opt/conda/lib/python3.6/site-packages (from azure-mgmt~=4.0->azure>=4.0.0->kubeflow-fairing==0.7.1) (0.3.0)\n",
      "Requirement already satisfied: azure-mgmt-batchai~=2.0 in /opt/conda/lib/python3.6/site-packages (from azure-mgmt~=4.0->azure>=4.0.0->kubeflow-fairing==0.7.1) (2.0.0)\n",
      "Requirement already satisfied: azure-mgmt-storage~=2.0 in /opt/conda/lib/python3.6/site-packages (from azure-mgmt~=4.0->azure>=4.0.0->kubeflow-fairing==0.7.1) (2.0.0)\n",
      "Requirement already satisfied: azure-mgmt-iothub~=0.5.0 in /opt/conda/lib/python3.6/site-packages (from azure-mgmt~=4.0->azure>=4.0.0->kubeflow-fairing==0.7.1) (0.5.0)\n",
      "Requirement already satisfied: azure-mgmt-servicefabric~=0.2.0 in /opt/conda/lib/python3.6/site-packages (from azure-mgmt~=4.0->azure>=4.0.0->kubeflow-fairing==0.7.1) (0.2.0)\n",
      "Requirement already satisfied: azure-mgmt-hanaonazure~=0.1.1 in /opt/conda/lib/python3.6/site-packages (from azure-mgmt~=4.0->azure>=4.0.0->kubeflow-fairing==0.7.1) (0.1.1)\n",
      "Requirement already satisfied: azure-mgmt-managementgroups~=0.1.0 in /opt/conda/lib/python3.6/site-packages (from azure-mgmt~=4.0->azure>=4.0.0->kubeflow-fairing==0.7.1) (0.1.0)\n",
      "Requirement already satisfied: azure-mgmt-servicebus~=0.5.1 in /opt/conda/lib/python3.6/site-packages (from azure-mgmt~=4.0->azure>=4.0.0->kubeflow-fairing==0.7.1) (0.5.3)\n",
      "Requirement already satisfied: azure-mgmt-eventhub~=2.1 in /opt/conda/lib/python3.6/site-packages (from azure-mgmt~=4.0->azure>=4.0.0->kubeflow-fairing==0.7.1) (2.6.0)\n",
      "Requirement already satisfied: azure-mgmt-keyvault~=1.0 in /opt/conda/lib/python3.6/site-packages (from azure-mgmt~=4.0->azure>=4.0.0->kubeflow-fairing==0.7.1) (1.1.0)\n",
      "Requirement already satisfied: azure-mgmt-commerce~=1.0 in /opt/conda/lib/python3.6/site-packages (from azure-mgmt~=4.0->azure>=4.0.0->kubeflow-fairing==0.7.1) (1.0.1)\n",
      "Requirement already satisfied: azure-mgmt-containerregistry~=2.1 in /opt/conda/lib/python3.6/site-packages (from azure-mgmt~=4.0->azure>=4.0.0->kubeflow-fairing==0.7.1) (2.8.0)\n",
      "Requirement already satisfied: azure-mgmt-dns~=2.0 in /opt/conda/lib/python3.6/site-packages (from azure-mgmt~=4.0->azure>=4.0.0->kubeflow-fairing==0.7.1) (2.1.0)\n",
      "Requirement already satisfied: azure-mgmt-recoveryservices~=0.3.0 in /opt/conda/lib/python3.6/site-packages (from azure-mgmt~=4.0->azure>=4.0.0->kubeflow-fairing==0.7.1) (0.3.0)\n",
      "Requirement already satisfied: azure-mgmt-cdn~=3.0 in /opt/conda/lib/python3.6/site-packages (from azure-mgmt~=4.0->azure>=4.0.0->kubeflow-fairing==0.7.1) (3.1.0)\n",
      "Requirement already satisfied: azure-mgmt-cognitiveservices~=3.0 in /opt/conda/lib/python3.6/site-packages (from azure-mgmt~=4.0->azure>=4.0.0->kubeflow-fairing==0.7.1) (3.0.0)\n",
      "Requirement already satisfied: azure-mgmt-datalake-store~=0.5.0 in /opt/conda/lib/python3.6/site-packages (from azure-mgmt~=4.0->azure>=4.0.0->kubeflow-fairing==0.7.1) (0.5.0)\n",
      "Requirement already satisfied: azure-mgmt-eventgrid~=1.0 in /opt/conda/lib/python3.6/site-packages (from azure-mgmt~=4.0->azure>=4.0.0->kubeflow-fairing==0.7.1) (1.0.0)\n",
      "Requirement already satisfied: azure-mgmt-logic~=3.0 in /opt/conda/lib/python3.6/site-packages (from azure-mgmt~=4.0->azure>=4.0.0->kubeflow-fairing==0.7.1) (3.0.0)\n",
      "Requirement already satisfied: cffi in /opt/conda/lib/python3.6/site-packages (from azure-datalake-store~=0.0.18->azure>=4.0.0->kubeflow-fairing==0.7.1) (1.11.5)\n",
      "Requirement already satisfied: msrest<2.0.0,>=0.5.4 in /opt/conda/lib/python3.6/site-packages (from azure-applicationinsights~=0.1.0->azure>=4.0.0->kubeflow-fairing==0.7.1) (0.6.10)\n",
      "Requirement already satisfied: azure-nspkg>=2.0.0 in /opt/conda/lib/python3.6/site-packages (from azure-applicationinsights~=0.1.0->azure>=4.0.0->kubeflow-fairing==0.7.1) (3.0.2)\n",
      "Requirement already satisfied: msrestazure<2.0.0,>=0.4.20 in /opt/conda/lib/python3.6/site-packages (from azure-batch~=4.1->azure>=4.0.0->kubeflow-fairing==0.7.1) (0.6.2)\n",
      "Requirement already satisfied: azure-cosmosdb-nspkg>=2.0.0 in /opt/conda/lib/python3.6/site-packages (from azure-cosmosdb-table~=1.0->azure>=4.0.0->kubeflow-fairing==0.7.1) (2.0.2)\n",
      "Requirement already satisfied: docutils<0.16,>=0.10 in /opt/conda/lib/python3.6/site-packages (from botocore<1.15.0,>=1.14.8->boto3>=1.9.0->kubeflow-fairing==0.7.1) (0.15.2)\n",
      "Requirement already satisfied: googleapis-common-protos<2.0dev,>=1.6.0 in /opt/conda/lib/python3.6/site-packages (from google-api-core[grpc]<2.0.0dev,>=1.14.0->google-cloud-logging>=1.13.0->kubeflow-fairing==0.7.1) (1.51.0)\n",
      "Requirement already satisfied: protobuf>=3.4.0 in /opt/conda/lib/python3.6/site-packages (from google-api-core[grpc]<2.0.0dev,>=1.14.0->google-cloud-logging>=1.13.0->kubeflow-fairing==0.7.1) (3.11.2)\n",
      "Requirement already satisfied: grpcio<2.0dev,>=1.8.2; extra == \"grpc\" in /opt/conda/lib/python3.6/site-packages (from google-api-core[grpc]<2.0.0dev,>=1.14.0->google-cloud-logging>=1.13.0->kubeflow-fairing==0.7.1) (1.26.0)\n",
      "Requirement already satisfied: webencodings in /opt/conda/lib/python3.6/site-packages (from bleach->nbconvert->notebook>=5.6.0->kubeflow-fairing==0.7.1) (0.5.1)\n",
      "Requirement already satisfied: prompt-toolkit!=3.0.0,!=3.0.1,<3.1.0,>=2.0.0 in /opt/conda/lib/python3.6/site-packages (from ipython>=5.0.0->ipykernel->notebook>=5.6.0->kubeflow-fairing==0.7.1) (2.0.10)\n",
      "Requirement already satisfied: pickleshare in /opt/conda/lib/python3.6/site-packages (from ipython>=5.0.0->ipykernel->notebook>=5.6.0->kubeflow-fairing==0.7.1) (0.7.5)\n",
      "Requirement already satisfied: pexpect; sys_platform != \"win32\" in /opt/conda/lib/python3.6/site-packages (from ipython>=5.0.0->ipykernel->notebook>=5.6.0->kubeflow-fairing==0.7.1) (4.8.0)\n",
      "Requirement already satisfied: jedi>=0.10 in /opt/conda/lib/python3.6/site-packages (from ipython>=5.0.0->ipykernel->notebook>=5.6.0->kubeflow-fairing==0.7.1) (0.15.2)\n",
      "Requirement already satisfied: backcall in /opt/conda/lib/python3.6/site-packages (from ipython>=5.0.0->ipykernel->notebook>=5.6.0->kubeflow-fairing==0.7.1) (0.1.0)\n",
      "Requirement already satisfied: attrs>=17.4.0 in /opt/conda/lib/python3.6/site-packages (from jsonschema!=2.5.0,>=2.4->nbformat->notebook>=5.6.0->kubeflow-fairing==0.7.1) (19.3.0)\n"
     ]
    },
    {
     "name": "stdout",
     "output_type": "stream",
     "text": [
      "Requirement already satisfied: pyrsistent>=0.14.0 in /opt/conda/lib/python3.6/site-packages (from jsonschema!=2.5.0,>=2.4->nbformat->notebook>=5.6.0->kubeflow-fairing==0.7.1) (0.15.7)\n",
      "Requirement already satisfied: importlib-metadata; python_version < \"3.8\" in /opt/conda/lib/python3.6/site-packages (from jsonschema!=2.5.0,>=2.4->nbformat->notebook>=5.6.0->kubeflow-fairing==0.7.1) (1.4.0)\n",
      "Requirement already satisfied: asn1crypto>=0.21.0 in /opt/conda/lib/python3.6/site-packages (from cryptography>=1.1.0->adal>=1.2.2->kfserving>=0.2.1.1->kubeflow-fairing==0.7.1) (0.24.0)\n",
      "Requirement already satisfied: azure-mgmt-nspkg>=2.0.0 in /opt/conda/lib/python3.6/site-packages (from azure-mgmt-devspaces~=0.1.0->azure-mgmt~=4.0->azure>=4.0.0->kubeflow-fairing==0.7.1) (3.0.2)\n",
      "Requirement already satisfied: azure-mgmt-datalake-nspkg>=2.0.0 in /opt/conda/lib/python3.6/site-packages (from azure-mgmt-datalake-analytics~=0.6.0->azure-mgmt~=4.0->azure>=4.0.0->kubeflow-fairing==0.7.1) (3.0.1)\n",
      "Requirement already satisfied: pycparser in /opt/conda/lib/python3.6/site-packages (from cffi->azure-datalake-store~=0.0.18->azure>=4.0.0->kubeflow-fairing==0.7.1) (2.18)\n",
      "Requirement already satisfied: isodate>=0.6.0 in /opt/conda/lib/python3.6/site-packages (from msrest<2.0.0,>=0.5.4->azure-applicationinsights~=0.1.0->azure>=4.0.0->kubeflow-fairing==0.7.1) (0.6.0)\n",
      "Requirement already satisfied: wcwidth in /opt/conda/lib/python3.6/site-packages (from prompt-toolkit!=3.0.0,!=3.0.1,<3.1.0,>=2.0.0->ipython>=5.0.0->ipykernel->notebook>=5.6.0->kubeflow-fairing==0.7.1) (0.1.8)\n",
      "Requirement already satisfied: parso>=0.5.2 in /opt/conda/lib/python3.6/site-packages (from jedi>=0.10->ipython>=5.0.0->ipykernel->notebook>=5.6.0->kubeflow-fairing==0.7.1) (0.5.2)\n",
      "Requirement already satisfied: zipp>=0.5 in /opt/conda/lib/python3.6/site-packages (from importlib-metadata; python_version < \"3.8\"->jsonschema!=2.5.0,>=2.4->nbformat->notebook>=5.6.0->kubeflow-fairing==0.7.1) (2.0.1)\n",
      "Requirement already satisfied: more-itertools in /opt/conda/lib/python3.6/site-packages (from zipp>=0.5->importlib-metadata; python_version < \"3.8\"->jsonschema!=2.5.0,>=2.4->nbformat->notebook>=5.6.0->kubeflow-fairing==0.7.1) (8.1.0)\n",
      "\u001b[33mYou are using pip version 19.0.1, however version 20.2b1 is available.\n",
      "You should consider upgrading via the 'pip install --upgrade pip' command.\u001b[0m\n"
     ]
    }
   ],
   "source": [
    "!pip install kubeflow-fairing==0.7.1"
   ]
  },
  {
   "cell_type": "code",
   "execution_count": null,
   "metadata": {},
   "outputs": [
    {
     "data": {
      "text/html": [
       "<script>Jupyter.notebook.kernel.restart()</script>"
      ],
      "text/plain": [
       "<IPython.core.display.HTML object>"
      ]
     },
     "execution_count": 2,
     "metadata": {},
     "output_type": "execute_result"
    }
   ],
   "source": [
    "# Restart the kernel to pick up pip installed libraries\n",
    "from IPython.core.display import HTML\n",
    "HTML(\"<script>Jupyter.notebook.kernel.restart()</script>\")"
   ]
  },
  {
   "cell_type": "markdown",
   "metadata": {},
   "source": [
    "# Train in the Notebook"
   ]
  },
  {
   "cell_type": "code",
   "execution_count": 1,
   "metadata": {},
   "outputs": [
    {
     "name": "stderr",
     "output_type": "stream",
     "text": [
      "/opt/conda/lib/python3.6/site-packages/tensorflow/python/framework/dtypes.py:526: FutureWarning: Passing (type, 1) or '1type' as a synonym of type is deprecated; in a future version of numpy, it will be understood as (type, (1,)) / '(1,)type'.\n",
      "  _np_qint8 = np.dtype([(\"qint8\", np.int8, 1)])\n",
      "/opt/conda/lib/python3.6/site-packages/tensorflow/python/framework/dtypes.py:527: FutureWarning: Passing (type, 1) or '1type' as a synonym of type is deprecated; in a future version of numpy, it will be understood as (type, (1,)) / '(1,)type'.\n",
      "  _np_quint8 = np.dtype([(\"quint8\", np.uint8, 1)])\n",
      "/opt/conda/lib/python3.6/site-packages/tensorflow/python/framework/dtypes.py:528: FutureWarning: Passing (type, 1) or '1type' as a synonym of type is deprecated; in a future version of numpy, it will be understood as (type, (1,)) / '(1,)type'.\n",
      "  _np_qint16 = np.dtype([(\"qint16\", np.int16, 1)])\n",
      "/opt/conda/lib/python3.6/site-packages/tensorflow/python/framework/dtypes.py:529: FutureWarning: Passing (type, 1) or '1type' as a synonym of type is deprecated; in a future version of numpy, it will be understood as (type, (1,)) / '(1,)type'.\n",
      "  _np_quint16 = np.dtype([(\"quint16\", np.uint16, 1)])\n",
      "/opt/conda/lib/python3.6/site-packages/tensorflow/python/framework/dtypes.py:530: FutureWarning: Passing (type, 1) or '1type' as a synonym of type is deprecated; in a future version of numpy, it will be understood as (type, (1,)) / '(1,)type'.\n",
      "  _np_qint32 = np.dtype([(\"qint32\", np.int32, 1)])\n",
      "/opt/conda/lib/python3.6/site-packages/tensorflow/python/framework/dtypes.py:535: FutureWarning: Passing (type, 1) or '1type' as a synonym of type is deprecated; in a future version of numpy, it will be understood as (type, (1,)) / '(1,)type'.\n",
      "  np_resource = np.dtype([(\"resource\", np.ubyte, 1)])\n",
      "[W 200523 22:39:46 deprecation:323] From /opt/conda/lib/python3.6/site-packages/tensorflow/python/framework/op_def_library.py:263: colocate_with (from tensorflow.python.framework.ops) is deprecated and will be removed in a future version.\n",
      "    Instructions for updating:\n",
      "    Colocations handled automatically by placer.\n",
      "[W 200523 22:39:46 deprecation:323] From /opt/conda/lib/python3.6/site-packages/tensorflow/python/ops/math_ops.py:3066: to_int32 (from tensorflow.python.ops.math_ops) is deprecated and will be removed in a future version.\n",
      "    Instructions for updating:\n",
      "    Use tf.cast instead.\n"
     ]
    },
    {
     "name": "stdout",
     "output_type": "stream",
     "text": [
      "Epoch 50 : cost = 5.5331297 W = 0.9883426 b = 0.7831303\n",
      "Epoch 100 : cost = 5.5179605 W = 0.98925966 b = 0.73979384\n",
      "Epoch 150 : cost = 5.504849 W = 0.9900829 b = 0.7008893\n",
      "Epoch 200 : cost = 5.4934864 W = 0.99082196 b = 0.665963\n",
      "Epoch 250 : cost = 5.4836144 W = 0.9914855 b = 0.6346075\n",
      "Epoch 300 : cost = 5.4750195 W = 0.99208117 b = 0.60645825\n",
      "Epoch 350 : cost = 5.467516 W = 0.99261594 b = 0.5811868\n",
      "Epoch 400 : cost = 5.4609528 W = 0.993096 b = 0.55850005\n",
      "Epoch 450 : cost = 5.4551992 W = 0.99352705 b = 0.53813237\n",
      "Epoch 500 : cost = 5.450147 W = 0.993914 b = 0.5198474\n",
      "Epoch 550 : cost = 5.4457006 W = 0.9942613 b = 0.503432\n",
      "Epoch 600 : cost = 5.441783 W = 0.9945732 b = 0.4886963\n",
      "Epoch 650 : cost = 5.438322 W = 0.9948531 b = 0.47546625\n",
      "Epoch 700 : cost = 5.4352646 W = 0.9951045 b = 0.46358883\n",
      "Epoch 750 : cost = 5.4325566 W = 0.9953301 b = 0.45292637\n",
      "Epoch 800 : cost = 5.4301567 W = 0.99553263 b = 0.44335374\n",
      "Epoch 850 : cost = 5.4280252 W = 0.9957145 b = 0.43476\n",
      "Epoch 900 : cost = 5.4261346 W = 0.9958778 b = 0.4270446\n",
      "Epoch 950 : cost = 5.4244514 W = 0.9960243 b = 0.42011872\n",
      "Epoch 1000 : cost = 5.4229546 W = 0.9961559 b = 0.41390103\n",
      "Weight:  0.9961559 Bias:  0.41390103\n"
     ]
    }
   ],
   "source": [
    "import os\n",
    "import sys\n",
    "from kubeflow import fairing\n",
    "import tensorflow as tf\n",
    "import numpy as np\n",
    "\n",
    "def train():\n",
    "    # Genrating random linear data \n",
    "    # There will be 50 data points ranging from 0 to 50 \n",
    "    x = np.linspace(0, 50, 50) \n",
    "    y = np.linspace(0, 50, 50) \n",
    "\n",
    "    # Adding noise to the random linear data \n",
    "    x += np.random.uniform(-4, 4, 50) \n",
    "    y += np.random.uniform(-4, 4, 50) \n",
    "\n",
    "    n = len(x) # Number of data points \n",
    "\n",
    "    X = tf.placeholder(\"float\") \n",
    "    Y = tf.placeholder(\"float\")\n",
    "    W = tf.Variable(np.random.randn(), name = \"W\") \n",
    "    b = tf.Variable(np.random.randn(), name = \"b\") \n",
    "    learning_rate = 0.01\n",
    "    training_epochs = 1000\n",
    "    \n",
    "    # Hypothesis \n",
    "    y_pred = tf.add(tf.multiply(X, W), b) \n",
    "\n",
    "    # Mean Squared Error Cost Function \n",
    "    cost = tf.reduce_sum(tf.pow(y_pred-Y, 2)) / (2 * n)\n",
    "\n",
    "    # Gradient Descent Optimizer \n",
    "    optimizer = tf.train.GradientDescentOptimizer(learning_rate).minimize(cost) \n",
    "\n",
    "    # Global Variables Initializer \n",
    "    init = tf.global_variables_initializer() \n",
    "\n",
    "    sess = tf.Session()\n",
    "    sess.run(init) \n",
    "      \n",
    "    # Iterating through all the epochs \n",
    "    for epoch in range(training_epochs): \n",
    "          \n",
    "        # Feeding each data point into the optimizer using Feed Dictionary \n",
    "        for (_x, _y) in zip(x, y): \n",
    "            sess.run(optimizer, feed_dict = {X : _x, Y : _y}) \n",
    "          \n",
    "        # Displaying the result after every 50 epochs \n",
    "        if (epoch + 1) % 50 == 0: \n",
    "            # Calculating the cost a every epoch \n",
    "            c = sess.run(cost, feed_dict = {X : x, Y : y}) \n",
    "            print(\"Epoch\", (epoch + 1), \": cost =\", c, \"W =\", sess.run(W), \"b =\", sess.run(b)) \n",
    "      \n",
    "    # Storing necessary values to be used outside the Session \n",
    "    training_cost = sess.run(cost, feed_dict ={X: x, Y: y}) \n",
    "    weight = sess.run(W) \n",
    "    bias = sess.run(b) \n",
    "\n",
    "    print('Weight: ', weight, 'Bias: ', bias)\n",
    "    \n",
    "train()"
   ]
  },
  {
   "cell_type": "markdown",
   "metadata": {},
   "source": [
    "# Train on the Kubeflow Cluster\n",
    "\n",
    "We will show you how to run the training job in the EKS Kubeflow cluster. We use `ECR` as our container image registry."
   ]
  },
  {
   "cell_type": "code",
   "execution_count": 2,
   "metadata": {},
   "outputs": [
    {
     "name": "stdout",
     "output_type": "stream",
     "text": [
      "WARNING! Using --password via the CLI is insecure. Use --password-stdin.\n",
      "WARNING! Your password will be stored unencrypted in /root/.docker/config.json.\n",
      "Configure a credential helper to remove this warning. See\n",
      "https://docs.docker.com/engine/reference/commandline/login/#credentials-store\n",
      "\n",
      "Login Succeeded\n"
     ]
    }
   ],
   "source": [
    "# Authenticate ECR\n",
    "# This command retrieves a token that is valid for a specified registry for 12 hours, \n",
    "# and then it prints a docker login command with that authorization token. \n",
    "# Then we executate this command to login ECR\n",
    "\n",
    "REGION='us-west-2'\n",
    "!eval $(aws ecr get-login --no-include-email --region=$REGION)"
   ]
  },
  {
   "cell_type": "code",
   "execution_count": 3,
   "metadata": {},
   "outputs": [
    {
     "name": "stdout",
     "output_type": "stream",
     "text": [
      "\n",
      "An error occurred (RepositoryNotFoundException) when calling the DescribeRepositories operation: The repository with name 'fairing-job' does not exist in the registry with id '853609162619'\n",
      "\n",
      "An error occurred (AccessDeniedException) when calling the CreateRepository operation: User: arn:aws:sts::853609162619:assumed-role/eksctl-chubacluster-nodegroup-cpu-NodeInstanceRole-1KQVIJET5WZGO/i-0e150acc320a949a8 is not authorized to perform: ecr:CreateRepository on resource: arn:aws:ecr:us-west-2:853609162619:repository/fairing-job\n"
     ]
    }
   ],
   "source": [
    "# Create an ECR repository in the same region\n",
    "!aws ecr describe-repositories --repository-names fairing-job --region=$REGION || aws ecr create-repository --repository-name fairing-job --region=$REGION"
   ]
  },
  {
   "cell_type": "code",
   "execution_count": 4,
   "metadata": {
    "scrolled": true
   },
   "outputs": [
    {
     "name": "stderr",
     "output_type": "stream",
     "text": [
      "[I 200523 22:40:05 config:125] Using preprocessor: <kubeflow.fairing.preprocessors.function.FunctionPreProcessor object at 0x7fd28ef7c6d8>\n",
      "[I 200523 22:40:05 config:127] Using builder: <kubeflow.fairing.builders.append.append.AppendBuilder object at 0x7fd22c39fd68>\n",
      "[I 200523 22:40:05 config:129] Using deployer: <kubeflow.fairing.deployers.job.job.Job object at 0x7fd22c39fda0>\n",
      "[W 200523 22:40:05 append:50] Building image using Append builder...\n",
      "[I 200523 22:40:05 base:107] Creating docker context: /tmp/fairing_context_uiuzomkl\n",
      "[W 200523 22:40:05 base:94] /opt/conda/lib/python3.6/site-packages/kubeflow/fairing/__init__.py already exists in Fairing context, skipping...\n",
      "[I 200523 22:40:05 docker_creds_:234] Loading Docker credentials for repository 'tensorflow/tensorflow:1.14.0-py3'\n",
      "[W 200523 22:40:06 append:54] Image successfully built in 1.0678239879998728s.\n",
      "[W 200523 22:40:06 append:94] Pushing image 853609162619.dkr.ecr.us-west-2.amazonaws.com/fairing-job:9192666...\n",
      "[I 200523 22:40:06 docker_creds_:234] Loading Docker credentials for repository '853609162619.dkr.ecr.us-west-2.amazonaws.com/fairing-job:9192666'\n",
      "[W 200523 22:40:06 append:81] Uploading 853609162619.dkr.ecr.us-west-2.amazonaws.com/fairing-job:9192666\n",
      "[E 200523 22:40:06 docker_session_:332] Error during upload of: 853609162619.dkr.ecr.us-west-2.amazonaws.com/fairing-job:9192666\n"
     ]
    },
    {
     "ename": "V2DiagnosticException",
     "evalue": "response: {'content-type': 'application/json; charset=utf-8', 'date': 'Sat, 23 May 2020 22:40:06 GMT', 'docker-distribution-api-version': 'registry/2.0', 'content-length': '298', 'connection': 'keep-alive', 'status': '403'}\nUser: arn:aws:sts::853609162619:assumed-role/eksctl-chubacluster-nodegroup-cpu-NodeInstanceRole-1KQVIJET5WZGO/i-0e150acc320a949a8 is not authorized to perform: ecr:InitiateLayerUpload on resource: arn:aws:ecr:us-west-2:853609162619:repository/fairing-job: None",
     "output_type": "error",
     "traceback": [
      "\u001b[0;31m---------------------------------------------------------------------------\u001b[0m",
      "\u001b[0;31mV2DiagnosticException\u001b[0m                     Traceback (most recent call last)",
      "\u001b[0;32m<ipython-input-4-b1cba1346f3c>\u001b[0m in \u001b[0;36m<module>\u001b[0;34m\u001b[0m\n\u001b[1;32m     10\u001b[0m \u001b[0;32mif\u001b[0m \u001b[0m__name__\u001b[0m \u001b[0;34m==\u001b[0m \u001b[0;34m'__main__'\u001b[0m\u001b[0;34m:\u001b[0m\u001b[0;34m\u001b[0m\u001b[0;34m\u001b[0m\u001b[0m\n\u001b[1;32m     11\u001b[0m     \u001b[0mcluster_train\u001b[0m \u001b[0;34m=\u001b[0m \u001b[0mfairing\u001b[0m\u001b[0;34m.\u001b[0m\u001b[0mconfig\u001b[0m\u001b[0;34m.\u001b[0m\u001b[0mfn\u001b[0m\u001b[0;34m(\u001b[0m\u001b[0mtrain\u001b[0m\u001b[0;34m)\u001b[0m\u001b[0;34m\u001b[0m\u001b[0;34m\u001b[0m\u001b[0m\n\u001b[0;32m---> 12\u001b[0;31m     \u001b[0mcluster_train\u001b[0m\u001b[0;34m(\u001b[0m\u001b[0;34m)\u001b[0m\u001b[0;34m\u001b[0m\u001b[0;34m\u001b[0m\u001b[0m\n\u001b[0m\u001b[1;32m     13\u001b[0m \u001b[0;34m\u001b[0m\u001b[0m\n",
      "\u001b[0;32m/opt/conda/lib/python3.6/site-packages/kubeflow/fairing/config.py\u001b[0m in \u001b[0;36mret_fn\u001b[0;34m()\u001b[0m\n\u001b[1;32m    152\u001b[0m             \u001b[0;34m\"\"\" return the function\"\"\"\u001b[0m\u001b[0;34m\u001b[0m\u001b[0;34m\u001b[0m\u001b[0m\n\u001b[1;32m    153\u001b[0m             \u001b[0mself\u001b[0m\u001b[0;34m.\u001b[0m\u001b[0mset_preprocessor\u001b[0m\u001b[0;34m(\u001b[0m\u001b[0;34m'function'\u001b[0m\u001b[0;34m,\u001b[0m \u001b[0mfunction_obj\u001b[0m\u001b[0;34m=\u001b[0m\u001b[0mfn\u001b[0m\u001b[0;34m)\u001b[0m\u001b[0;34m\u001b[0m\u001b[0;34m\u001b[0m\u001b[0m\n\u001b[0;32m--> 154\u001b[0;31m             \u001b[0mself\u001b[0m\u001b[0;34m.\u001b[0m\u001b[0mrun\u001b[0m\u001b[0;34m(\u001b[0m\u001b[0;34m)\u001b[0m\u001b[0;34m\u001b[0m\u001b[0;34m\u001b[0m\u001b[0m\n\u001b[0m\u001b[1;32m    155\u001b[0m         \u001b[0;32mreturn\u001b[0m \u001b[0mret_fn\u001b[0m\u001b[0;34m\u001b[0m\u001b[0;34m\u001b[0m\u001b[0m\n\u001b[1;32m    156\u001b[0m \u001b[0;34m\u001b[0m\u001b[0m\n",
      "\u001b[0;32m/opt/conda/lib/python3.6/site-packages/kubeflow/fairing/config.py\u001b[0m in \u001b[0;36mrun\u001b[0;34m(self)\u001b[0m\n\u001b[1;32m    129\u001b[0m         \u001b[0mlogging\u001b[0m\u001b[0;34m.\u001b[0m\u001b[0minfo\u001b[0m\u001b[0;34m(\u001b[0m\u001b[0;34m\"Using deployer: %s\"\u001b[0m\u001b[0;34m,\u001b[0m \u001b[0mdeployer\u001b[0m\u001b[0;34m)\u001b[0m\u001b[0;34m\u001b[0m\u001b[0;34m\u001b[0m\u001b[0m\n\u001b[1;32m    130\u001b[0m \u001b[0;34m\u001b[0m\u001b[0m\n\u001b[0;32m--> 131\u001b[0;31m         \u001b[0mbuilder\u001b[0m\u001b[0;34m.\u001b[0m\u001b[0mbuild\u001b[0m\u001b[0;34m(\u001b[0m\u001b[0;34m)\u001b[0m\u001b[0;34m\u001b[0m\u001b[0;34m\u001b[0m\u001b[0m\n\u001b[0m\u001b[1;32m    132\u001b[0m         \u001b[0mpod_spec\u001b[0m \u001b[0;34m=\u001b[0m \u001b[0mbuilder\u001b[0m\u001b[0;34m.\u001b[0m\u001b[0mgenerate_pod_spec\u001b[0m\u001b[0;34m(\u001b[0m\u001b[0;34m)\u001b[0m\u001b[0;34m\u001b[0m\u001b[0;34m\u001b[0m\u001b[0m\n\u001b[1;32m    133\u001b[0m         \u001b[0mdeployer\u001b[0m\u001b[0;34m.\u001b[0m\u001b[0mdeploy\u001b[0m\u001b[0;34m(\u001b[0m\u001b[0mpod_spec\u001b[0m\u001b[0;34m)\u001b[0m\u001b[0;34m\u001b[0m\u001b[0;34m\u001b[0m\u001b[0m\n",
      "\u001b[0;32m/opt/conda/lib/python3.6/site-packages/kubeflow/fairing/builders/append/append.py\u001b[0m in \u001b[0;36mbuild\u001b[0;34m(self)\u001b[0m\n\u001b[1;32m     56\u001b[0m             self.full_image_name(self.context_hash), strict=False)\n\u001b[1;32m     57\u001b[0m         \u001b[0;32mif\u001b[0m \u001b[0mself\u001b[0m\u001b[0;34m.\u001b[0m\u001b[0mpush\u001b[0m\u001b[0;34m:\u001b[0m\u001b[0;34m\u001b[0m\u001b[0;34m\u001b[0m\u001b[0m\n\u001b[0;32m---> 58\u001b[0;31m             \u001b[0mself\u001b[0m\u001b[0;34m.\u001b[0m\u001b[0mtimed_push\u001b[0m\u001b[0;34m(\u001b[0m\u001b[0mtransport\u001b[0m\u001b[0;34m,\u001b[0m \u001b[0msrc\u001b[0m\u001b[0;34m,\u001b[0m \u001b[0mnew_img\u001b[0m\u001b[0;34m,\u001b[0m \u001b[0mdst\u001b[0m\u001b[0;34m)\u001b[0m\u001b[0;34m\u001b[0m\u001b[0;34m\u001b[0m\u001b[0m\n\u001b[0m\u001b[1;32m     59\u001b[0m         \u001b[0;32melse\u001b[0m\u001b[0;34m:\u001b[0m\u001b[0;34m\u001b[0m\u001b[0;34m\u001b[0m\u001b[0m\n\u001b[1;32m     60\u001b[0m             \u001b[0;31m# TODO(r2d4):\u001b[0m\u001b[0;34m\u001b[0m\u001b[0;34m\u001b[0m\u001b[0;34m\u001b[0m\u001b[0m\n",
      "\u001b[0;32m/opt/conda/lib/python3.6/site-packages/kubeflow/fairing/builders/append/append.py\u001b[0m in \u001b[0;36mtimed_push\u001b[0;34m(self, transport, src, img, dst)\u001b[0m\n\u001b[1;32m     94\u001b[0m         \u001b[0mlogger\u001b[0m\u001b[0;34m.\u001b[0m\u001b[0mwarning\u001b[0m\u001b[0;34m(\u001b[0m\u001b[0;34m\"Pushing image {}...\"\u001b[0m\u001b[0;34m.\u001b[0m\u001b[0mformat\u001b[0m\u001b[0;34m(\u001b[0m\u001b[0mself\u001b[0m\u001b[0;34m.\u001b[0m\u001b[0mimage_tag\u001b[0m\u001b[0;34m)\u001b[0m\u001b[0;34m)\u001b[0m\u001b[0;34m\u001b[0m\u001b[0;34m\u001b[0m\u001b[0m\n\u001b[1;32m     95\u001b[0m         \u001b[0mstart\u001b[0m \u001b[0;34m=\u001b[0m \u001b[0mtimer\u001b[0m\u001b[0;34m(\u001b[0m\u001b[0;34m)\u001b[0m\u001b[0;34m\u001b[0m\u001b[0;34m\u001b[0m\u001b[0m\n\u001b[0;32m---> 96\u001b[0;31m         \u001b[0mself\u001b[0m\u001b[0;34m.\u001b[0m\u001b[0m_push\u001b[0m\u001b[0;34m(\u001b[0m\u001b[0mtransport\u001b[0m\u001b[0;34m,\u001b[0m \u001b[0msrc\u001b[0m\u001b[0;34m,\u001b[0m \u001b[0mimg\u001b[0m\u001b[0;34m,\u001b[0m \u001b[0mdst\u001b[0m\u001b[0;34m)\u001b[0m\u001b[0;34m\u001b[0m\u001b[0;34m\u001b[0m\u001b[0m\n\u001b[0m\u001b[1;32m     97\u001b[0m         \u001b[0mend\u001b[0m \u001b[0;34m=\u001b[0m \u001b[0mtimer\u001b[0m\u001b[0;34m(\u001b[0m\u001b[0;34m)\u001b[0m\u001b[0;34m\u001b[0m\u001b[0;34m\u001b[0m\u001b[0m\n\u001b[1;32m     98\u001b[0m         logger.warning(\n",
      "\u001b[0;32m/opt/conda/lib/python3.6/site-packages/kubeflow/fairing/builders/append/append.py\u001b[0m in \u001b[0;36m_push\u001b[0;34m(self, transport, src, img, dst)\u001b[0m\n\u001b[1;32m     80\u001b[0m                                  mount=[src.as_repository()]) as session:\n\u001b[1;32m     81\u001b[0m             \u001b[0mlogger\u001b[0m\u001b[0;34m.\u001b[0m\u001b[0mwarning\u001b[0m\u001b[0;34m(\u001b[0m\u001b[0;34m\"Uploading {}\"\u001b[0m\u001b[0;34m.\u001b[0m\u001b[0mformat\u001b[0m\u001b[0;34m(\u001b[0m\u001b[0mself\u001b[0m\u001b[0;34m.\u001b[0m\u001b[0mimage_tag\u001b[0m\u001b[0;34m)\u001b[0m\u001b[0;34m)\u001b[0m\u001b[0;34m\u001b[0m\u001b[0;34m\u001b[0m\u001b[0m\n\u001b[0;32m---> 82\u001b[0;31m             \u001b[0msession\u001b[0m\u001b[0;34m.\u001b[0m\u001b[0mupload\u001b[0m\u001b[0;34m(\u001b[0m\u001b[0mimg\u001b[0m\u001b[0;34m)\u001b[0m\u001b[0;34m\u001b[0m\u001b[0;34m\u001b[0m\u001b[0m\n\u001b[0m\u001b[1;32m     83\u001b[0m         \u001b[0mos\u001b[0m\u001b[0;34m.\u001b[0m\u001b[0mremove\u001b[0m\u001b[0;34m(\u001b[0m\u001b[0mself\u001b[0m\u001b[0;34m.\u001b[0m\u001b[0mcontext_file\u001b[0m\u001b[0;34m)\u001b[0m\u001b[0;34m\u001b[0m\u001b[0;34m\u001b[0m\u001b[0m\n\u001b[1;32m     84\u001b[0m \u001b[0;34m\u001b[0m\u001b[0m\n",
      "\u001b[0;32m/opt/conda/lib/python3.6/site-packages/containerregistry/client/v2_2/docker_session_.py\u001b[0m in \u001b[0;36mupload\u001b[0;34m(self, image, use_digest)\u001b[0m\n\u001b[1;32m    319\u001b[0m         }\n\u001b[1;32m    320\u001b[0m         \u001b[0;32mfor\u001b[0m \u001b[0mfuture\u001b[0m \u001b[0;32min\u001b[0m \u001b[0mconcurrent\u001b[0m\u001b[0;34m.\u001b[0m\u001b[0mfutures\u001b[0m\u001b[0;34m.\u001b[0m\u001b[0mas_completed\u001b[0m\u001b[0;34m(\u001b[0m\u001b[0mfuture_to_params\u001b[0m\u001b[0;34m)\u001b[0m\u001b[0;34m:\u001b[0m\u001b[0;34m\u001b[0m\u001b[0;34m\u001b[0m\u001b[0m\n\u001b[0;32m--> 321\u001b[0;31m           \u001b[0mfuture\u001b[0m\u001b[0;34m.\u001b[0m\u001b[0mresult\u001b[0m\u001b[0;34m(\u001b[0m\u001b[0;34m)\u001b[0m\u001b[0;34m\u001b[0m\u001b[0;34m\u001b[0m\u001b[0m\n\u001b[0m\u001b[1;32m    322\u001b[0m \u001b[0;34m\u001b[0m\u001b[0m\n\u001b[1;32m    323\u001b[0m     \u001b[0;31m# This should complete the upload by uploading the manifest.\u001b[0m\u001b[0;34m\u001b[0m\u001b[0;34m\u001b[0m\u001b[0;34m\u001b[0m\u001b[0m\n",
      "\u001b[0;32m/opt/conda/lib/python3.6/concurrent/futures/_base.py\u001b[0m in \u001b[0;36mresult\u001b[0;34m(self, timeout)\u001b[0m\n\u001b[1;32m    423\u001b[0m                 \u001b[0;32mraise\u001b[0m \u001b[0mCancelledError\u001b[0m\u001b[0;34m(\u001b[0m\u001b[0;34m)\u001b[0m\u001b[0;34m\u001b[0m\u001b[0;34m\u001b[0m\u001b[0m\n\u001b[1;32m    424\u001b[0m             \u001b[0;32melif\u001b[0m \u001b[0mself\u001b[0m\u001b[0;34m.\u001b[0m\u001b[0m_state\u001b[0m \u001b[0;34m==\u001b[0m \u001b[0mFINISHED\u001b[0m\u001b[0;34m:\u001b[0m\u001b[0;34m\u001b[0m\u001b[0;34m\u001b[0m\u001b[0m\n\u001b[0;32m--> 425\u001b[0;31m                 \u001b[0;32mreturn\u001b[0m \u001b[0mself\u001b[0m\u001b[0;34m.\u001b[0m\u001b[0m__get_result\u001b[0m\u001b[0;34m(\u001b[0m\u001b[0;34m)\u001b[0m\u001b[0;34m\u001b[0m\u001b[0;34m\u001b[0m\u001b[0m\n\u001b[0m\u001b[1;32m    426\u001b[0m \u001b[0;34m\u001b[0m\u001b[0m\n\u001b[1;32m    427\u001b[0m             \u001b[0mself\u001b[0m\u001b[0;34m.\u001b[0m\u001b[0m_condition\u001b[0m\u001b[0;34m.\u001b[0m\u001b[0mwait\u001b[0m\u001b[0;34m(\u001b[0m\u001b[0mtimeout\u001b[0m\u001b[0;34m)\u001b[0m\u001b[0;34m\u001b[0m\u001b[0;34m\u001b[0m\u001b[0m\n",
      "\u001b[0;32m/opt/conda/lib/python3.6/concurrent/futures/_base.py\u001b[0m in \u001b[0;36m__get_result\u001b[0;34m(self)\u001b[0m\n\u001b[1;32m    382\u001b[0m     \u001b[0;32mdef\u001b[0m \u001b[0m__get_result\u001b[0m\u001b[0;34m(\u001b[0m\u001b[0mself\u001b[0m\u001b[0;34m)\u001b[0m\u001b[0;34m:\u001b[0m\u001b[0;34m\u001b[0m\u001b[0;34m\u001b[0m\u001b[0m\n\u001b[1;32m    383\u001b[0m         \u001b[0;32mif\u001b[0m \u001b[0mself\u001b[0m\u001b[0;34m.\u001b[0m\u001b[0m_exception\u001b[0m\u001b[0;34m:\u001b[0m\u001b[0;34m\u001b[0m\u001b[0;34m\u001b[0m\u001b[0m\n\u001b[0;32m--> 384\u001b[0;31m             \u001b[0;32mraise\u001b[0m \u001b[0mself\u001b[0m\u001b[0;34m.\u001b[0m\u001b[0m_exception\u001b[0m\u001b[0;34m\u001b[0m\u001b[0;34m\u001b[0m\u001b[0m\n\u001b[0m\u001b[1;32m    385\u001b[0m         \u001b[0;32melse\u001b[0m\u001b[0;34m:\u001b[0m\u001b[0;34m\u001b[0m\u001b[0;34m\u001b[0m\u001b[0m\n\u001b[1;32m    386\u001b[0m             \u001b[0;32mreturn\u001b[0m \u001b[0mself\u001b[0m\u001b[0;34m.\u001b[0m\u001b[0m_result\u001b[0m\u001b[0;34m\u001b[0m\u001b[0;34m\u001b[0m\u001b[0m\n",
      "\u001b[0;32m/opt/conda/lib/python3.6/concurrent/futures/thread.py\u001b[0m in \u001b[0;36mrun\u001b[0;34m(self)\u001b[0m\n\u001b[1;32m     54\u001b[0m \u001b[0;34m\u001b[0m\u001b[0m\n\u001b[1;32m     55\u001b[0m         \u001b[0;32mtry\u001b[0m\u001b[0;34m:\u001b[0m\u001b[0;34m\u001b[0m\u001b[0;34m\u001b[0m\u001b[0m\n\u001b[0;32m---> 56\u001b[0;31m             \u001b[0mresult\u001b[0m \u001b[0;34m=\u001b[0m \u001b[0mself\u001b[0m\u001b[0;34m.\u001b[0m\u001b[0mfn\u001b[0m\u001b[0;34m(\u001b[0m\u001b[0;34m*\u001b[0m\u001b[0mself\u001b[0m\u001b[0;34m.\u001b[0m\u001b[0margs\u001b[0m\u001b[0;34m,\u001b[0m \u001b[0;34m**\u001b[0m\u001b[0mself\u001b[0m\u001b[0;34m.\u001b[0m\u001b[0mkwargs\u001b[0m\u001b[0;34m)\u001b[0m\u001b[0;34m\u001b[0m\u001b[0;34m\u001b[0m\u001b[0m\n\u001b[0m\u001b[1;32m     57\u001b[0m         \u001b[0;32mexcept\u001b[0m \u001b[0mBaseException\u001b[0m \u001b[0;32mas\u001b[0m \u001b[0mexc\u001b[0m\u001b[0;34m:\u001b[0m\u001b[0;34m\u001b[0m\u001b[0;34m\u001b[0m\u001b[0m\n\u001b[1;32m     58\u001b[0m             \u001b[0mself\u001b[0m\u001b[0;34m.\u001b[0m\u001b[0mfuture\u001b[0m\u001b[0;34m.\u001b[0m\u001b[0mset_exception\u001b[0m\u001b[0;34m(\u001b[0m\u001b[0mexc\u001b[0m\u001b[0;34m)\u001b[0m\u001b[0;34m\u001b[0m\u001b[0;34m\u001b[0m\u001b[0m\n",
      "\u001b[0;32m/opt/conda/lib/python3.6/site-packages/containerregistry/client/v2_2/docker_session_.py\u001b[0m in \u001b[0;36m_upload_one\u001b[0;34m(self, image, digest)\u001b[0m\n\u001b[1;32m    281\u001b[0m       \u001b[0;32mreturn\u001b[0m\u001b[0;34m\u001b[0m\u001b[0;34m\u001b[0m\u001b[0m\n\u001b[1;32m    282\u001b[0m \u001b[0;34m\u001b[0m\u001b[0m\n\u001b[0;32m--> 283\u001b[0;31m     \u001b[0mself\u001b[0m\u001b[0;34m.\u001b[0m\u001b[0m_put_blob\u001b[0m\u001b[0;34m(\u001b[0m\u001b[0mimage\u001b[0m\u001b[0;34m,\u001b[0m \u001b[0mdigest\u001b[0m\u001b[0;34m)\u001b[0m\u001b[0;34m\u001b[0m\u001b[0;34m\u001b[0m\u001b[0m\n\u001b[0m\u001b[1;32m    284\u001b[0m     \u001b[0mlogging\u001b[0m\u001b[0;34m.\u001b[0m\u001b[0minfo\u001b[0m\u001b[0;34m(\u001b[0m\u001b[0;34m'Layer %s pushed.'\u001b[0m\u001b[0;34m,\u001b[0m \u001b[0mdigest\u001b[0m\u001b[0;34m)\u001b[0m\u001b[0;34m\u001b[0m\u001b[0;34m\u001b[0m\u001b[0m\n\u001b[1;32m    285\u001b[0m \u001b[0;34m\u001b[0m\u001b[0m\n",
      "\u001b[0;32m/opt/conda/lib/python3.6/site-packages/containerregistry/client/v2_2/docker_session_.py\u001b[0m in \u001b[0;36m_put_blob\u001b[0;34m(self, image, digest)\u001b[0m\n\u001b[1;32m    204\u001b[0m     \u001b[0;31m# specified in the \"mount\" parameter. This does a fast copy from a\u001b[0m\u001b[0;34m\u001b[0m\u001b[0;34m\u001b[0m\u001b[0;34m\u001b[0m\u001b[0m\n\u001b[1;32m    205\u001b[0m     \u001b[0;31m# repository that is known to contain this blob and skips the upload.\u001b[0m\u001b[0;34m\u001b[0m\u001b[0;34m\u001b[0m\u001b[0;34m\u001b[0m\u001b[0m\n\u001b[0;32m--> 206\u001b[0;31m     \u001b[0mself\u001b[0m\u001b[0;34m.\u001b[0m\u001b[0m_patch_upload\u001b[0m\u001b[0;34m(\u001b[0m\u001b[0mimage\u001b[0m\u001b[0;34m,\u001b[0m \u001b[0mdigest\u001b[0m\u001b[0;34m)\u001b[0m\u001b[0;34m\u001b[0m\u001b[0;34m\u001b[0m\u001b[0m\n\u001b[0m\u001b[1;32m    207\u001b[0m \u001b[0;34m\u001b[0m\u001b[0m\n\u001b[1;32m    208\u001b[0m   def _remote_tag_digest(\n",
      "\u001b[0;32m/opt/conda/lib/python3.6/site-packages/containerregistry/client/v2_2/docker_session_.py\u001b[0m in \u001b[0;36m_patch_upload\u001b[0;34m(self, image, digest)\u001b[0m\n\u001b[1;32m    155\u001b[0m   def _patch_upload(self, image,\n\u001b[1;32m    156\u001b[0m                     digest):\n\u001b[0;32m--> 157\u001b[0;31m     \u001b[0mmounted\u001b[0m\u001b[0;34m,\u001b[0m \u001b[0mlocation\u001b[0m \u001b[0;34m=\u001b[0m \u001b[0mself\u001b[0m\u001b[0;34m.\u001b[0m\u001b[0m_start_upload\u001b[0m\u001b[0;34m(\u001b[0m\u001b[0mdigest\u001b[0m\u001b[0;34m,\u001b[0m \u001b[0mself\u001b[0m\u001b[0;34m.\u001b[0m\u001b[0m_mount\u001b[0m\u001b[0;34m)\u001b[0m\u001b[0;34m\u001b[0m\u001b[0;34m\u001b[0m\u001b[0m\n\u001b[0m\u001b[1;32m    158\u001b[0m \u001b[0;34m\u001b[0m\u001b[0m\n\u001b[1;32m    159\u001b[0m     \u001b[0;32mif\u001b[0m \u001b[0mmounted\u001b[0m\u001b[0;34m:\u001b[0m\u001b[0;34m\u001b[0m\u001b[0;34m\u001b[0m\u001b[0m\n",
      "\u001b[0;32m/opt/conda/lib/python3.6/site-packages/containerregistry/client/v2_2/docker_session_.py\u001b[0m in \u001b[0;36m_start_upload\u001b[0;34m(self, digest, mount)\u001b[0m\n\u001b[1;32m    270\u001b[0m     \u001b[0;31m# import pdb; pdb.set_trace()\u001b[0m\u001b[0;34m\u001b[0m\u001b[0;34m\u001b[0m\u001b[0;34m\u001b[0m\u001b[0m\n\u001b[1;32m    271\u001b[0m     resp, unused_content = self._transport.Request(\n\u001b[0;32m--> 272\u001b[0;31m         url, method='POST', body=None, accepted_codes=accepted_codes)\n\u001b[0m\u001b[1;32m    273\u001b[0m     \u001b[0;31m# pytype: disable=attribute-error,bad-return-type\u001b[0m\u001b[0;34m\u001b[0m\u001b[0;34m\u001b[0m\u001b[0;34m\u001b[0m\u001b[0m\n\u001b[1;32m    274\u001b[0m     \u001b[0;32mreturn\u001b[0m \u001b[0mresp\u001b[0m\u001b[0;34m.\u001b[0m\u001b[0mstatus\u001b[0m \u001b[0;34m==\u001b[0m \u001b[0msix\u001b[0m\u001b[0;34m.\u001b[0m\u001b[0mmoves\u001b[0m\u001b[0;34m.\u001b[0m\u001b[0mhttp_client\u001b[0m\u001b[0;34m.\u001b[0m\u001b[0mCREATED\u001b[0m\u001b[0;34m,\u001b[0m \u001b[0mresp\u001b[0m\u001b[0;34m.\u001b[0m\u001b[0mget\u001b[0m\u001b[0;34m(\u001b[0m\u001b[0;34m'location'\u001b[0m\u001b[0;34m)\u001b[0m\u001b[0;34m\u001b[0m\u001b[0;34m\u001b[0m\u001b[0m\n",
      "\u001b[0;32m/opt/conda/lib/python3.6/site-packages/containerregistry/client/v2_2/docker_http_.py\u001b[0m in \u001b[0;36mRequest\u001b[0;34m(self, url, accepted_codes, method, body, content_type, accepted_mimes)\u001b[0m\n\u001b[1;32m    394\u001b[0m     \u001b[0;32mif\u001b[0m \u001b[0mresp\u001b[0m\u001b[0;34m.\u001b[0m\u001b[0mstatus\u001b[0m \u001b[0;32mnot\u001b[0m \u001b[0;32min\u001b[0m \u001b[0maccepted_codes\u001b[0m\u001b[0;34m:\u001b[0m\u001b[0;34m\u001b[0m\u001b[0;34m\u001b[0m\u001b[0m\n\u001b[1;32m    395\u001b[0m       \u001b[0;31m# Use the content returned by GCR as the error message.\u001b[0m\u001b[0;34m\u001b[0m\u001b[0;34m\u001b[0m\u001b[0;34m\u001b[0m\u001b[0m\n\u001b[0;32m--> 396\u001b[0;31m       \u001b[0;32mraise\u001b[0m \u001b[0mV2DiagnosticException\u001b[0m\u001b[0;34m(\u001b[0m\u001b[0mresp\u001b[0m\u001b[0;34m,\u001b[0m \u001b[0mcontent\u001b[0m\u001b[0;34m)\u001b[0m\u001b[0;34m\u001b[0m\u001b[0;34m\u001b[0m\u001b[0m\n\u001b[0m\u001b[1;32m    397\u001b[0m \u001b[0;34m\u001b[0m\u001b[0m\n\u001b[1;32m    398\u001b[0m     \u001b[0;32mreturn\u001b[0m \u001b[0mresp\u001b[0m\u001b[0;34m,\u001b[0m \u001b[0mcontent\u001b[0m\u001b[0;34m\u001b[0m\u001b[0;34m\u001b[0m\u001b[0m\n",
      "\u001b[0;31mV2DiagnosticException\u001b[0m: response: {'content-type': 'application/json; charset=utf-8', 'date': 'Sat, 23 May 2020 22:40:06 GMT', 'docker-distribution-api-version': 'registry/2.0', 'content-length': '298', 'connection': 'keep-alive', 'status': '403'}\nUser: arn:aws:sts::853609162619:assumed-role/eksctl-chubacluster-nodegroup-cpu-NodeInstanceRole-1KQVIJET5WZGO/i-0e150acc320a949a8 is not authorized to perform: ecr:InitiateLayerUpload on resource: arn:aws:ecr:us-west-2:853609162619:repository/fairing-job: None"
     ]
    }
   ],
   "source": [
    "# Setting up AWS Elastic Container Registry (ECR) for storing output containers\n",
    "# You can use any docker container registry instead of ECR\n",
    "AWS_ACCOUNT_ID=fairing.cloud.aws.guess_account_id()\n",
    "AWS_REGION='us-west-2'\n",
    "DOCKER_REGISTRY = '{}.dkr.ecr.{}.amazonaws.com'.format(AWS_ACCOUNT_ID, AWS_REGION)\n",
    "\n",
    "fairing.config.set_builder('append', base_image='tensorflow/tensorflow:1.14.0-py3', registry=DOCKER_REGISTRY, push=True)\n",
    "fairing.config.set_deployer('job')\n",
    "    \n",
    "if __name__ == '__main__':\n",
    "    cluster_train = fairing.config.fn(train)\n",
    "    cluster_train()\n",
    "    "
   ]
  },
  {
   "cell_type": "markdown",
   "metadata": {},
   "source": [
    "# See the Completed Job in the Kubeflow Cluster\n",
    "Re-run the cell above, if you don't see `fairing-job` below.  The fairing-job will get cleaned up after a few seconds."
   ]
  },
  {
   "cell_type": "code",
   "execution_count": 5,
   "metadata": {},
   "outputs": [
    {
     "name": "stdout",
     "output_type": "stream",
     "text": [
      "NAME         READY   STATUS    RESTARTS   AGE\r\n",
      "notebook-0   2/2     Running   0          9m20s\r\n"
     ]
    }
   ],
   "source": [
    "!kubectl get pod"
   ]
  },
  {
   "cell_type": "code",
   "execution_count": null,
   "metadata": {},
   "outputs": [],
   "source": []
  }
 ],
 "metadata": {
  "kernelspec": {
   "display_name": "Python 3",
   "language": "python",
   "name": "python3"
  },
  "language_info": {
   "codemirror_mode": {
    "name": "ipython",
    "version": 3
   },
   "file_extension": ".py",
   "mimetype": "text/x-python",
   "name": "python",
   "nbconvert_exporter": "python",
   "pygments_lexer": "ipython3",
   "version": "3.6.8"
  }
 },
 "nbformat": 4,
 "nbformat_minor": 2
}
